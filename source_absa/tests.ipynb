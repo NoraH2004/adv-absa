{
 "cells": [
  {
   "cell_type": "code",
   "execution_count": 2,
   "metadata": {},
   "outputs": [],
   "source": [
    "import os\n",
    "import numpy as np\n",
    "import pandas as pd\n",
    "import seaborn as sn\n",
    "import matplotlib.pyplot as plt\n",
    "from sklearn.metrics import confusion_matrix\n",
    "\n",
    "import utils.text_processing as tp"
   ]
  },
  {
   "cell_type": "code",
   "execution_count": 7,
   "metadata": {},
   "outputs": [],
   "source": [
    "pmethod = 'typos'"
   ]
  },
  {
   "cell_type": "code",
   "execution_count": 4,
   "metadata": {},
   "outputs": [],
   "source": [
    "%store -r important_words\n",
    "%store -r sentence_packages\n",
    "%store -r ds\n",
    "%store -r advds\n",
    "%store -r extended_original_predictions\n",
    "%store -r extended_modified_predictions"
   ]
  },
  {
   "cell_type": "code",
   "execution_count": 25,
   "metadata": {},
   "outputs": [
    {
     "data": {
      "text/plain": [
       "2092"
      ]
     },
     "execution_count": 25,
     "metadata": {},
     "output_type": "execute_result"
    }
   ],
   "source": [
    "len(extended_modified_predictions)"
   ]
  },
  {
   "cell_type": "code",
   "execution_count": 30,
   "metadata": {},
   "outputs": [],
   "source": [
    "def generate_results_df(pmethod, ds, advds, extended):  \n",
    "    \n",
    "    if       \n",
    "    results = pd.DataFrame({\n",
    "     'Perturbation Method': [pmethod],\n",
    "     'Tokenizer': ['nlptown/bert-base-multilingual-uncased-sentiment'], \n",
    "     'Model' : ['nlptown/bert-base-multilingual-uncased-sentiment'], \n",
    "     'Dataset':['TripAdvisor Hotel Reviews'], \n",
    "     'Output lables': ['Range from 0 to 4 - 0 = NEG; 4 = POS'],\n",
    "     'Items in original dataset': len(ds),\n",
    "     'Number of modifyable items in original dataset': len(advds),\n",
    "     'Items in adversarial dataset': len(extended),\n",
    "     'Percentage': (len(advds)/len(ds)*100)})\n",
    "    \n",
    "    return results.T"
   ]
  },
  {
   "cell_type": "code",
   "execution_count": 31,
   "metadata": {},
   "outputs": [
    {
     "data": {
      "text/html": [
       "<div>\n",
       "<style scoped>\n",
       "    .dataframe tbody tr th:only-of-type {\n",
       "        vertical-align: middle;\n",
       "    }\n",
       "\n",
       "    .dataframe tbody tr th {\n",
       "        vertical-align: top;\n",
       "    }\n",
       "\n",
       "    .dataframe thead th {\n",
       "        text-align: right;\n",
       "    }\n",
       "</style>\n",
       "<table border=\"1\" class=\"dataframe\">\n",
       "  <thead>\n",
       "    <tr style=\"text-align: right;\">\n",
       "      <th></th>\n",
       "      <th>0</th>\n",
       "    </tr>\n",
       "  </thead>\n",
       "  <tbody>\n",
       "    <tr>\n",
       "      <th>Perturbation Method</th>\n",
       "      <td>typos</td>\n",
       "    </tr>\n",
       "    <tr>\n",
       "      <th>Tokenizer</th>\n",
       "      <td>nlptown/bert-base-multilingual-uncased-sentiment</td>\n",
       "    </tr>\n",
       "    <tr>\n",
       "      <th>Model</th>\n",
       "      <td>nlptown/bert-base-multilingual-uncased-sentiment</td>\n",
       "    </tr>\n",
       "    <tr>\n",
       "      <th>Dataset</th>\n",
       "      <td>TripAdvisor Hotel Reviews</td>\n",
       "    </tr>\n",
       "    <tr>\n",
       "      <th>Output lables</th>\n",
       "      <td>Range from 0 to 4 - 0 = NEG; 4 = POS</td>\n",
       "    </tr>\n",
       "    <tr>\n",
       "      <th>Items in original dataset</th>\n",
       "      <td>435</td>\n",
       "    </tr>\n",
       "    <tr>\n",
       "      <th>Number of modifyable items in original dataset</th>\n",
       "      <td>330</td>\n",
       "    </tr>\n",
       "    <tr>\n",
       "      <th>Items in adversarial dataset</th>\n",
       "      <td>2092</td>\n",
       "    </tr>\n",
       "    <tr>\n",
       "      <th>Percentage</th>\n",
       "      <td>75.8621</td>\n",
       "    </tr>\n",
       "  </tbody>\n",
       "</table>\n",
       "</div>"
      ],
      "text/plain": [
       "                                                                                               0\n",
       "Perturbation Method                                                                        typos\n",
       "Tokenizer                                       nlptown/bert-base-multilingual-uncased-sentiment\n",
       "Model                                           nlptown/bert-base-multilingual-uncased-sentiment\n",
       "Dataset                                                                TripAdvisor Hotel Reviews\n",
       "Output lables                                               Range from 0 to 4 - 0 = NEG; 4 = POS\n",
       "Items in original dataset                                                                    435\n",
       "Number of modifyable items in original dataset                                               330\n",
       "Items in adversarial dataset                                                                2092\n",
       "Percentage                                                                               75.8621"
      ]
     },
     "execution_count": 31,
     "metadata": {},
     "output_type": "execute_result"
    }
   ],
   "source": [
    "results_typo = generate_results_df(pmethod, ds, advds, extended_modified_predictions)\n",
    "results_typo"
   ]
  },
  {
   "cell_type": "code",
   "execution_count": null,
   "metadata": {},
   "outputs": [],
   "source": []
  },
  {
   "cell_type": "code",
   "execution_count": null,
   "metadata": {},
   "outputs": [],
   "source": []
  },
  {
   "cell_type": "markdown",
   "metadata": {},
   "source": [
    "### Dataloader"
   ]
  },
  {
   "cell_type": "code",
   "execution_count": null,
   "metadata": {},
   "outputs": [],
   "source": []
  },
  {
   "cell_type": "code",
   "execution_count": null,
   "metadata": {},
   "outputs": [],
   "source": [
    "def semeval_to_aspectsentiment_hr(filename, with_ids=False):\n",
    "    sentimap = {\n",
    "        'positive': 'POS',\n",
    "        'negative': 'NEG',\n",
    "        'neutral': 'NEU'\n",
    "    }\n",
    "\n",
    "    def transform_category_name(s):\n",
    "        return s\n",
    "\n",
    "    with open(filename) as file:\n",
    "\n",
    "        review_elements = ET.parse(file).getroot().iter('Review')\n",
    "\n",
    "        sentences = []\n",
    "        aspect_category_sentiments = []\n",
    "        classes = set([])\n",
    "        sentence_ids = []\n",
    "\n",
    "        for j, review_element in enumerate(review_elements):\n",
    "            # review_text = ' '.join([el.text for el in review_element.iter('text')])\n",
    "\n",
    "            for i, s in enumerate(review_element.iter('sentence')):\n",
    "                s_id = s.get('id')\n",
    "                sentence_ids.append(s_id)\n",
    "                sentence_text = s.find('text').text\n",
    "                aspect_category_sentiment = set([])\n",
    "                for o in s.iter('Opinion'):\n",
    "                    aspect_category = transform_category_name(o.get('category'))\n",
    "                    classes.add(aspect_category)\n",
    "                    sentiment = sentimap[o.get('polarity')]\n",
    "                    aspect_category_sentiment.add((aspect_category, sentiment))\n",
    "\n",
    "                \n",
    "                aspect_sentiment_dict = {}\n",
    "                for asentis in aspect_category_sentiment:\n",
    "                    aspect_sentiment_dict[asentis[0]] = asentis[1]\n",
    "                    sentences.append(sentence_text)\n",
    "                    aspect_category_sentiments.append(aspect_sentiment_dict)\n",
    "\n",
    "        cats = list(classes)\n",
    "        cats.sort()\n",
    "\n",
    "    idx2aspectlabel = {k: v for k, v in enumerate(cats)}\n",
    "    sentilabel2idx = {\"NONE\": 0, \"NEG\": 1, \"NEU\": 2, \"POS\": 3}\n",
    "    idx2sentilabel = {k: v for v, k in sentilabel2idx.items()}\n",
    "    if not with_ids:\n",
    "        return sentences, aspect_category_sentiments, (idx2aspectlabel, idx2sentilabel)\n",
    "    else:\n",
    "        return sentences, sentence_ids, aspect_category_sentiments, (idx2aspectlabel, idx2sentilabel)\n",
    "\n"
   ]
  },
  {
   "cell_type": "code",
   "execution_count": null,
   "metadata": {},
   "outputs": [],
   "source": []
  }
 ],
 "metadata": {
  "kernelspec": {
   "display_name": "Python 3",
   "language": "python",
   "name": "python3"
  },
  "language_info": {
   "codemirror_mode": {
    "name": "ipython",
    "version": 3
   },
   "file_extension": ".py",
   "mimetype": "text/x-python",
   "name": "python",
   "nbconvert_exporter": "python",
   "pygments_lexer": "ipython3",
   "version": "3.6.9"
  }
 },
 "nbformat": 4,
 "nbformat_minor": 4
}
