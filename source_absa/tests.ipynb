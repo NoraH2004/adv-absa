{
 "cells": [
  {
   "cell_type": "code",
   "execution_count": 1,
   "metadata": {},
   "outputs": [],
   "source": [
    "import os\n",
    "import numpy as np\n",
    "import pandas as pd\n",
    "import seaborn as sn\n",
    "import matplotlib.pyplot as plt\n",
    "import xml.etree.ElementTree as ET\n",
    "from sklearn.metrics import confusion_matrix\n",
    "\n",
    "import utils.text_processing as tp"
   ]
  },
  {
   "cell_type": "code",
   "execution_count": 15,
   "metadata": {},
   "outputs": [
    {
     "name": "stdout",
     "output_type": "stream",
     "text": [
      "[{'first': {'aspect': 'Price', 'sentiment': 'POS'}, 'second': None}, {'first': {'aspect': 'Laptop (general)', 'sentiment': 'POS'}, 'second': {'aspect': 'Laptop (general)', 'sentiment': 'NEG'}}]\n"
     ]
    }
   ],
   "source": [
    "# list difference example\n",
    "aspect_sentiments =  [{\n",
    "\t\t\t'aspect': 'Laptop (general)',\n",
    "\t\t\t'sentiment': 'NEG'\n",
    "\t\t}, {\n",
    "\t\t\t'aspect': 'Price',\n",
    "\t\t\t'sentiment': 'POS'\n",
    "\t\t}]\n",
    "aspect_sentiments2 = [{\n",
    "\t\t\t'aspect': 'Laptop (general)',\n",
    "\t\t\t'sentiment': 'POS'\n",
    "\t\t}]\n",
    "\n",
    "def sym_compare_aspect_list(aspects, aspects2):\n",
    "    diff_first_second = compare_aspect_list(aspects, aspects2)\n",
    "    diff_second_first = compare_aspect_list(aspects2, aspects, only_missing=True)\n",
    "  \n",
    "    return diff_first_second + diff_second_first\n",
    "    \n",
    "    \n",
    "def compare_aspect_list(aspects, aspects2, only_missing=False):\n",
    "    '''\n",
    "    check if aspects2 contains all elements from aspects\n",
    "    compare if sentiments are identical\n",
    "    returns list with differences\n",
    "    '''\n",
    "    diff = []\n",
    "    for aspect in aspects:\n",
    "        found = False\n",
    "        for aspect2 in aspects2:\n",
    "            if aspect['aspect'] == aspect2['aspect']:\n",
    "                found = True\n",
    "                if aspect['sentiment'] == aspect2['sentiment']:\n",
    "                    continue # same\n",
    "                else:\n",
    "                    if only_missing:\n",
    "                        diff.append({'first': aspect, 'second': aspect2})\n",
    "\n",
    "        if not found:\n",
    "            diff.append({'first': aspect, 'second': None})\n",
    "    return diff\n",
    "\n",
    "                \n",
    "print(sym_compare_aspect_list(aspect_sentiments, aspect_sentiments2))"
   ]
  },
  {
   "cell_type": "code",
   "execution_count": 14,
   "metadata": {},
   "outputs": [
    {
     "data": {
      "text/plain": [
       "{'This'}"
      ]
     },
     "execution_count": 14,
     "metadata": {},
     "output_type": "execute_result"
    }
   ],
   "source": [
    "o_sent = set('This computer is Amazing'.split())\n",
    "m_sent = set('computer is Amazing'.split())\n",
    "\n",
    "word = o_sent.difference(m_sent)\n",
    "word"
   ]
  },
  {
   "cell_type": "code",
   "execution_count": 16,
   "metadata": {},
   "outputs": [],
   "source": [
    "index = [1, 1, 1, 1, 1, 2, 2, 2, 2, 2]\n",
    "words = ['hi', 'ich', 'bin', 'nora', 'hofer', 'hello', 'my', 'name', 'is', 'nori']"
   ]
  },
  {
   "cell_type": "code",
   "execution_count": 18,
   "metadata": {},
   "outputs": [
    {
     "name": "stdout",
     "output_type": "stream",
     "text": [
      "2\n"
     ]
    }
   ],
   "source": [
    "print(index[5])"
   ]
  },
  {
   "cell_type": "code",
   "execution_count": 25,
   "metadata": {},
   "outputs": [
    {
     "name": "stdout",
     "output_type": "stream",
     "text": [
      "[['hi', 'ich', 'bin', 'nora', 'hofer'], ['hello', 'my', 'name', 'is', 'nori']]\n"
     ]
    }
   ],
   "source": [
    "packages = []\n",
    "sent = []\n",
    "check = 1\n",
    "for e, word in enumerate(words):\n",
    "    i = index[e]    \n",
    "    if i == check:\n",
    "        sent.append(word)\n",
    "    else:\n",
    "        packages.append(sent)\n",
    "        sent = []\n",
    "        sent.append(word)\n",
    "    check = i\n",
    "packages.append(sent)\n",
    "\n",
    "\n",
    "print(packages)\n",
    "    \n",
    "    "
   ]
  },
  {
   "cell_type": "code",
   "execution_count": 12,
   "metadata": {},
   "outputs": [],
   "source": [
    "pmethod = 'typos'"
   ]
  },
  {
   "cell_type": "code",
   "execution_count": 13,
   "metadata": {},
   "outputs": [],
   "source": [
    "%store -r important_words\n",
    "%store -r sentence_packages\n",
    "%store -r ds\n",
    "%store -r advds\n",
    "%store -r extended_original_predictions\n",
    "%store -r extended_modified_predictions"
   ]
  },
  {
   "cell_type": "code",
   "execution_count": 42,
   "metadata": {},
   "outputs": [],
   "source": [
    "sentence_packages = [{'original_sentence': 'This computer is absolutely AMAZING!!!', 'modified_sentences': [('This', 'computer is absolutely AMAZING!!!'), ('computer', 'This is absolutely AMAZING!!!'), ('is', 'This computer absolutely AMAZING!!!'), ('absolutely', 'This computer is AMAZING!!!'), ('AMAZING!!!', 'This computer is absolutely')]}, {'original_sentence': '10 plus hours of battery...', 'modified_sentences': [('10', 'plus hours of battery...'), ('plus', '10 hours of battery...'), ('hours', '10 plus of battery...'), ('of', '10 plus hours battery...'), ('battery...', '10 plus hours of')]}]"
   ]
  },
  {
   "cell_type": "code",
   "execution_count": 43,
   "metadata": {},
   "outputs": [
    {
     "data": {
      "text/plain": [
       "2"
      ]
     },
     "execution_count": 43,
     "metadata": {},
     "output_type": "execute_result"
    }
   ],
   "source": [
    "len(sentence_packages)"
   ]
  },
  {
   "cell_type": "code",
   "execution_count": null,
   "metadata": {},
   "outputs": [],
   "source": [
    "if modified_words[index] is None:\n",
    "            modified_sentences.append(sentence)\n",
    "            continue  \n",
    "               \n",
    "        \n",
    "            \n",
    "        if isinstance(modified_words[index], list): \n",
    "            modified_sentences_list = []\n",
    "            for word in modified_words[index]:\n",
    "                modified_sentences_list.append(sentence.replace(important_words[index], word))\n",
    "            modified_sentences.append(modified_sentences_list)               \n",
    "            continue    \n",
    "        print(important_words[index], modified_words[index])\n",
    "        modified_sentences.append(sentence.replace(important_words[index], modified_words[index]))  "
   ]
  },
  {
   "cell_type": "code",
   "execution_count": 198,
   "metadata": {},
   "outputs": [],
   "source": [
    "original_sentences = ['This computer is absolutely AMAZING!!!',\n",
    "                         '10 plus hours of battery...',\n",
    "                         'super fast processor and really nice graphics card..',\n",
    "                         'super fast processor and really nice graphics card..',\n",
    "                         'and plenty of storage with 250 gb(though I will upgrade this and the ram..)']\n",
    "important_words_list = [[], [], ['card..'], ['card..'], ['plenty', 'storage']]\n",
    "modified_words_list = [[], [], [['c4rd..', 'COOOD']], [['c4rd..']], [['p13nty'], ['5t0r4g3']]]"
   ]
  },
  {
   "cell_type": "code",
   "execution_count": 199,
   "metadata": {},
   "outputs": [],
   "source": [
    "def generate_modified_sentences(original_sentences, important_words_list, modified_words_list):\n",
    "    \n",
    "    modified_sentences_list = []\n",
    "    for sent_idx, sentence in enumerate(original_sentences):\n",
    "        # print(sent_idx, sentence)\n",
    "        # print(important_words_list[sent_idx])\n",
    "                \n",
    "        modified_sentences = []\n",
    "        for iword_idx, iword in enumerate(important_words_list[sent_idx]):\n",
    "            for mwords in modified_words_list[sent_idx]:\n",
    "                for mword in mwords:               \n",
    "                      \n",
    "                    modified_sentences.append(sentence.replace(iword, mword))\n",
    "        modified_sentences_list.append(modified_sentences)\n",
    "        \n",
    "    return modified_sentences_list"
   ]
  },
  {
   "cell_type": "code",
   "execution_count": 200,
   "metadata": {},
   "outputs": [],
   "source": [
    "modified_sentences_list = generate_modified_sentences(original_sentences, important_words_list, modified_words_list)"
   ]
  },
  {
   "cell_type": "code",
   "execution_count": 201,
   "metadata": {},
   "outputs": [
    {
     "data": {
      "text/plain": [
       "[[],\n",
       " [],\n",
       " ['super fast processor and really nice graphics c4rd..',\n",
       "  'super fast processor and really nice graphics COOOD'],\n",
       " ['super fast processor and really nice graphics c4rd..'],\n",
       " ['and p13nty of storage with 250 gb(though I will upgrade this and the ram..)',\n",
       "  'and 5t0r4g3 of storage with 250 gb(though I will upgrade this and the ram..)',\n",
       "  'and plenty of p13nty with 250 gb(though I will upgrade this and the ram..)',\n",
       "  'and plenty of 5t0r4g3 with 250 gb(though I will upgrade this and the ram..)']]"
      ]
     },
     "execution_count": 201,
     "metadata": {},
     "output_type": "execute_result"
    }
   ],
   "source": [
    "modified_sentences_list"
   ]
  },
  {
   "cell_type": "code",
   "execution_count": null,
   "metadata": {},
   "outputs": [],
   "source": [
    "[   {      \"original_sentence\":\"got more than 10 hours of battery.\",\n",
    "      \"modified_sentences\":[\n",
    "          ('than', 'got more 10 hours of battery.')\n",
    "      ]\n",
    "   \n",
    "},\n",
    "   {      \"original_sentence\":\"a super fast processor and a really nice graphics card.\",\n",
    "      \"modified_sentences\":[\n",
    "         ('than', 'got more 10 hours of battery.'),\n",
    "         ('hours', 'got more 10 of battery.')\n",
    "      \n",
    "]}\n",
    "]"
   ]
  },
  {
   "cell_type": "code",
   "execution_count": 16,
   "metadata": {},
   "outputs": [],
   "source": [
    "sentence_packages = [{'original_sentence': 'got more than 10 hours of battery.', 'modified_sentences': [('than', 'got more 10 hours of battery.')]}, {'original_sentence': 'a super fast processor and a really nice graphics card.', 'modified_sentences': [('fast', 'a super processor and a really nice graphics card.'), ('processor', 'a super fast and a really nice graphics card.')]}, {'original_sentence': 'Also plenty of storage with 250 GB ram.', 'modified_sentences': [('plenty', 'Also of storage with 250 GB ram.'), ('ram.', 'Also plenty of storage with 250 GB')]}, {'original_sentence': \"I'm shocked as to how easy it is to get used to.\", 'modified_sentences': [('used', \"I'm shocked as to how easy it is to get to.\"), ('to.', \"I'm shocked as to how easy it is to get used\")]}, {'original_sentence': 'GET THIS COMPUTER FOR PORTABILITY AND FAST PROCESSING!', 'modified_sentences': [('PORTABILITY', 'GET THIS COMPUTER FOR AND FAST PROCESSING!'), ('FAST', 'GET THIS COMPUTER FOR PORTABILITY AND PROCESSING!'), ('PROCESSING!', 'GET THIS COMPUTER FOR PORTABILITY AND FAST')]}, {'original_sentence': 'the laptop was really good and it goes really fast just the way i thought it would run.', 'modified_sentences': [('fast', 'the laptop was really good and it goes really just the way i thought it would run.')]}, {'original_sentence': 'i would really recommend it to any person out there to get this laptop because its really worth it.', 'modified_sentences': [('worth', 'i would really recommend it to any person out there to get this laptop because its really it.')]}, {'original_sentence': 'And its really cheap and you wont regret buying it.', 'modified_sentences': [('cheap', 'And its really and you wont regret buying it.'), ('wont', 'And its really cheap and you regret buying it.'), ('regret', 'And its really cheap and you wont buying it.')]}]"
   ]
  },
  {
   "cell_type": "code",
   "execution_count": null,
   "metadata": {},
   "outputs": [],
   "source": []
  },
  {
   "cell_type": "code",
   "execution_count": 20,
   "metadata": {},
   "outputs": [
    {
     "name": "stdout",
     "output_type": "stream",
     "text": [
      "imp_wds:  ['than']\n",
      "imp_wds:  ['fast', 'processor']\n",
      "imp_wds:  ['plenty', 'ram.']\n",
      "imp_wds:  ['used', 'to.']\n",
      "imp_wds:  ['PORTABILITY', 'FAST', 'PROCESSING!']\n",
      "imp_wds:  ['fast']\n",
      "imp_wds:  ['worth']\n",
      "imp_wds:  ['cheap', 'wont', 'regret']\n",
      "imp_we3ds_pckgs:  [['than'], ['fast', 'processor'], ['plenty', 'ram.'], ['used', 'to.'], ['PORTABILITY', 'FAST', 'PROCESSING!'], ['fast'], ['worth'], ['cheap', 'wont', 'regret']]\n"
     ]
    }
   ],
   "source": [
    "important_words_packages = []\n",
    "for package in sentence_packages:\n",
    "    important_words = []\n",
    "    for sentence in package['modified_sentences']:\n",
    "        important_words.append(sentence[0])\n",
    "    print('imp_wds: ', important_words)\n",
    "    important_words_packages.append(important_words)\n",
    "\n",
    "print('imp_we3ds_pckgs: ', important_words_packages)   \n",
    "    \n",
    "    "
   ]
  },
  {
   "cell_type": "code",
   "execution_count": null,
   "metadata": {},
   "outputs": [],
   "source": []
  },
  {
   "cell_type": "code",
   "execution_count": 24,
   "metadata": {},
   "outputs": [],
   "source": [
    "%store -r important_words_packages_dev\n",
    "%store -r sentence_packages_dev\n",
    "%store -r loo_results_dev"
   ]
  },
  {
   "cell_type": "code",
   "execution_count": 25,
   "metadata": {},
   "outputs": [],
   "source": [
    "important_words_packages = important_words_packages_dev\n",
    "sentence_packages = sentence_packages_dev\n",
    "loo_results = loo_results_dev"
   ]
  },
  {
   "cell_type": "code",
   "execution_count": 26,
   "metadata": {},
   "outputs": [],
   "source": [
    "# Original Sentences\n",
    "\n",
    "original_sentences = []\n",
    "for package in sentence_packages:\n",
    "    original_sentences.append(package['original_sentence'])"
   ]
  },
  {
   "cell_type": "code",
   "execution_count": 23,
   "metadata": {},
   "outputs": [],
   "source": [
    "def generate_modified_sentences(original_sentences, important_words_packages, modified_words):\n",
    "    assert len(original_sentences)==len(important_words)==len(modified_words), 'List length is not equal!'\n",
    "    \n",
    "    modified_sentences = []\n",
    "    for index, sentence in enumerate(original_sentences):\n",
    "        if modified_words[index] is None:\n",
    "            modified_sentences.append(sentence)\n",
    "            continue  \n",
    "            \n",
    "        if isinstance(modified_words[index], list): \n",
    "            modified_sentences_list = []\n",
    "            for word in modified_words[index]:\n",
    "                modified_sentences_list.append(sentence.replace(important_words[index], word))\n",
    "            modified_sentences.append(modified_sentences_list)               \n",
    "            continue        \n",
    "        modified_sentences.append(sentence.replace(important_words[index], modified_words[index]))   \n",
    "        \n",
    "    return modified_sentences"
   ]
  },
  {
   "cell_type": "code",
   "execution_count": null,
   "metadata": {},
   "outputs": [],
   "source": []
  },
  {
   "cell_type": "code",
   "execution_count": null,
   "metadata": {},
   "outputs": [],
   "source": []
  }
 ],
 "metadata": {
  "kernelspec": {
   "display_name": "Python 3",
   "language": "python",
   "name": "python3"
  },
  "language_info": {
   "codemirror_mode": {
    "name": "ipython",
    "version": 3
   },
   "file_extension": ".py",
   "mimetype": "text/x-python",
   "name": "python",
   "nbconvert_exporter": "python",
   "pygments_lexer": "ipython3",
   "version": "3.6.9"
  }
 },
 "nbformat": 4,
 "nbformat_minor": 4
}
