{
 "cells": [
  {
   "cell_type": "code",
   "execution_count": 26,
   "metadata": {},
   "outputs": [],
   "source": [
    "import os\n",
    "import numpy as np\n",
    "import pandas as pd\n",
    "import seaborn as sn\n",
    "import matplotlib.pyplot as plt\n",
    "import xml.etree.ElementTree as ET\n",
    "from sklearn.metrics import confusion_matrix\n",
    "\n",
    "import utils.text_processing as tp"
   ]
  },
  {
   "cell_type": "code",
   "execution_count": 12,
   "metadata": {},
   "outputs": [],
   "source": [
    "pmethod = 'typos'"
   ]
  },
  {
   "cell_type": "code",
   "execution_count": 13,
   "metadata": {},
   "outputs": [],
   "source": [
    "%store -r important_words\n",
    "%store -r sentence_packages\n",
    "%store -r ds\n",
    "%store -r advds\n",
    "%store -r extended_original_predictions\n",
    "%store -r extended_modified_predictions"
   ]
  },
  {
   "cell_type": "code",
   "execution_count": 42,
   "metadata": {},
   "outputs": [],
   "source": [
    "sentence_packages = [{'original_sentence': 'This computer is absolutely AMAZING!!!', 'modified_sentences': [('This', 'computer is absolutely AMAZING!!!'), ('computer', 'This is absolutely AMAZING!!!'), ('is', 'This computer absolutely AMAZING!!!'), ('absolutely', 'This computer is AMAZING!!!'), ('AMAZING!!!', 'This computer is absolutely')]}, {'original_sentence': '10 plus hours of battery...', 'modified_sentences': [('10', 'plus hours of battery...'), ('plus', '10 hours of battery...'), ('hours', '10 plus of battery...'), ('of', '10 plus hours battery...'), ('battery...', '10 plus hours of')]}]"
   ]
  },
  {
   "cell_type": "code",
   "execution_count": 43,
   "metadata": {},
   "outputs": [
    {
     "data": {
      "text/plain": [
       "2"
      ]
     },
     "execution_count": 43,
     "metadata": {},
     "output_type": "execute_result"
    }
   ],
   "source": [
    "len(sentence_packages)"
   ]
  },
  {
   "cell_type": "code",
   "execution_count": null,
   "metadata": {},
   "outputs": [],
   "source": [
    "if modified_words[index] is None:\n",
    "            modified_sentences.append(sentence)\n",
    "            continue  \n",
    "               \n",
    "        \n",
    "            \n",
    "        if isinstance(modified_words[index], list): \n",
    "            modified_sentences_list = []\n",
    "            for word in modified_words[index]:\n",
    "                modified_sentences_list.append(sentence.replace(important_words[index], word))\n",
    "            modified_sentences.append(modified_sentences_list)               \n",
    "            continue    \n",
    "        print(important_words[index], modified_words[index])\n",
    "        modified_sentences.append(sentence.replace(important_words[index], modified_words[index]))  "
   ]
  },
  {
   "cell_type": "code",
   "execution_count": 198,
   "metadata": {},
   "outputs": [],
   "source": [
    "original_sentences = ['This computer is absolutely AMAZING!!!',\n",
    "                         '10 plus hours of battery...',\n",
    "                         'super fast processor and really nice graphics card..',\n",
    "                         'super fast processor and really nice graphics card..',\n",
    "                         'and plenty of storage with 250 gb(though I will upgrade this and the ram..)']\n",
    "important_words_list = [[], [], ['card..'], ['card..'], ['plenty', 'storage']]\n",
    "modified_words_list = [[], [], [['c4rd..', 'COOOD']], [['c4rd..']], [['p13nty'], ['5t0r4g3']]]"
   ]
  },
  {
   "cell_type": "code",
   "execution_count": 199,
   "metadata": {},
   "outputs": [],
   "source": [
    "def generate_modified_sentences(original_sentences, important_words_list, modified_words_list):\n",
    "    \n",
    "    modified_sentences_list = []\n",
    "    for sent_idx, sentence in enumerate(original_sentences):\n",
    "        # print(sent_idx, sentence)\n",
    "        # print(important_words_list[sent_idx])\n",
    "                \n",
    "        modified_sentences = []\n",
    "        for iword_idx, iword in enumerate(important_words_list[sent_idx]):\n",
    "            for mwords in modified_words_list[sent_idx]:\n",
    "                for mword in mwords:               \n",
    "                      \n",
    "                    modified_sentences.append(sentence.replace(iword, mword))\n",
    "        modified_sentences_list.append(modified_sentences)\n",
    "        \n",
    "    return modified_sentences_list"
   ]
  },
  {
   "cell_type": "code",
   "execution_count": 200,
   "metadata": {},
   "outputs": [],
   "source": [
    "modified_sentences_list = generate_modified_sentences(original_sentences, important_words_list, modified_words_list)"
   ]
  },
  {
   "cell_type": "code",
   "execution_count": 201,
   "metadata": {},
   "outputs": [
    {
     "data": {
      "text/plain": [
       "[[],\n",
       " [],\n",
       " ['super fast processor and really nice graphics c4rd..',\n",
       "  'super fast processor and really nice graphics COOOD'],\n",
       " ['super fast processor and really nice graphics c4rd..'],\n",
       " ['and p13nty of storage with 250 gb(though I will upgrade this and the ram..)',\n",
       "  'and 5t0r4g3 of storage with 250 gb(though I will upgrade this and the ram..)',\n",
       "  'and plenty of p13nty with 250 gb(though I will upgrade this and the ram..)',\n",
       "  'and plenty of 5t0r4g3 with 250 gb(though I will upgrade this and the ram..)']]"
      ]
     },
     "execution_count": 201,
     "metadata": {},
     "output_type": "execute_result"
    }
   ],
   "source": [
    "modified_sentences_list"
   ]
  },
  {
   "cell_type": "code",
   "execution_count": null,
   "metadata": {},
   "outputs": [],
   "source": []
  },
  {
   "cell_type": "code",
   "execution_count": null,
   "metadata": {},
   "outputs": [],
   "source": []
  }
 ],
 "metadata": {
  "kernelspec": {
   "display_name": "Python 3",
   "language": "python",
   "name": "python3"
  },
  "language_info": {
   "codemirror_mode": {
    "name": "ipython",
    "version": 3
   },
   "file_extension": ".py",
   "mimetype": "text/x-python",
   "name": "python",
   "nbconvert_exporter": "python",
   "pygments_lexer": "ipython3",
   "version": "3.6.9"
  }
 },
 "nbformat": 4,
 "nbformat_minor": 4
}
