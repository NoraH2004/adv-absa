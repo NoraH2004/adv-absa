{
 "cells": [
  {
   "cell_type": "code",
   "execution_count": 26,
   "metadata": {},
   "outputs": [],
   "source": [
    "import os\n",
    "import numpy as np\n",
    "import pandas as pd\n",
    "import seaborn as sn\n",
    "import matplotlib.pyplot as plt\n",
    "import xml.etree.ElementTree as ET\n",
    "from sklearn.metrics import confusion_matrix\n",
    "\n",
    "import utils.text_processing as tp"
   ]
  },
  {
   "cell_type": "code",
   "execution_count": 12,
   "metadata": {},
   "outputs": [],
   "source": [
    "pmethod = 'typos'"
   ]
  },
  {
   "cell_type": "code",
   "execution_count": 13,
   "metadata": {},
   "outputs": [],
   "source": [
    "%store -r important_words\n",
    "%store -r sentence_packages\n",
    "%store -r ds\n",
    "%store -r advds\n",
    "%store -r extended_original_predictions\n",
    "%store -r extended_modified_predictions"
   ]
  },
  {
   "cell_type": "code",
   "execution_count": 14,
   "metadata": {},
   "outputs": [
    {
     "data": {
      "text/plain": [
       "2092"
      ]
     },
     "execution_count": 14,
     "metadata": {},
     "output_type": "execute_result"
    }
   ],
   "source": [
    "len(extended_modified_predictions)"
   ]
  },
  {
   "cell_type": "code",
   "execution_count": 15,
   "metadata": {},
   "outputs": [
    {
     "ename": "SyntaxError",
     "evalue": "invalid syntax (<ipython-input-15-1a944b694641>, line 3)",
     "output_type": "error",
     "traceback": [
      "\u001b[0;36m  File \u001b[0;32m\"<ipython-input-15-1a944b694641>\"\u001b[0;36m, line \u001b[0;32m3\u001b[0m\n\u001b[0;31m    if\u001b[0m\n\u001b[0m             ^\u001b[0m\n\u001b[0;31mSyntaxError\u001b[0m\u001b[0;31m:\u001b[0m invalid syntax\n"
     ]
    }
   ],
   "source": [
    "def generate_results_df(pmethod, ds, advds, extended):  \n",
    "    \n",
    "    if       \n",
    "    results = pd.DataFrame({\n",
    "     'Perturbation Method': [pmethod],\n",
    "     'Tokenizer': ['nlptown/bert-base-multilingual-uncased-sentiment'], \n",
    "     'Model' : ['nlptown/bert-base-multilingual-uncased-sentiment'], \n",
    "     'Dataset':['TripAdvisor Hotel Reviews'], \n",
    "     'Output lables': ['Range from 0 to 4 - 0 = NEG; 4 = POS'],\n",
    "     'Items in original dataset': len(ds),\n",
    "     'Number of modifyable items in original dataset': len(advds),\n",
    "     'Items in adversarial dataset': len(extended),\n",
    "     'Percentage': (len(advds)/len(ds)*100)})\n",
    "    \n",
    "    return results.T"
   ]
  },
  {
   "cell_type": "code",
   "execution_count": 16,
   "metadata": {},
   "outputs": [
    {
     "ename": "NameError",
     "evalue": "name 'generate_results_df' is not defined",
     "output_type": "error",
     "traceback": [
      "\u001b[0;31m---------------------------------------------------------------------------\u001b[0m",
      "\u001b[0;31mNameError\u001b[0m                                 Traceback (most recent call last)",
      "\u001b[0;32m<ipython-input-16-a8cfc82cf570>\u001b[0m in \u001b[0;36m<module>\u001b[0;34m\u001b[0m\n\u001b[0;32m----> 1\u001b[0;31m \u001b[0mresults_typo\u001b[0m \u001b[0;34m=\u001b[0m \u001b[0mgenerate_results_df\u001b[0m\u001b[0;34m(\u001b[0m\u001b[0mpmethod\u001b[0m\u001b[0;34m,\u001b[0m \u001b[0mds\u001b[0m\u001b[0;34m,\u001b[0m \u001b[0madvds\u001b[0m\u001b[0;34m,\u001b[0m \u001b[0mextended_modified_predictions\u001b[0m\u001b[0;34m)\u001b[0m\u001b[0;34m\u001b[0m\u001b[0;34m\u001b[0m\u001b[0m\n\u001b[0m\u001b[1;32m      2\u001b[0m \u001b[0mresults_typo\u001b[0m\u001b[0;34m\u001b[0m\u001b[0;34m\u001b[0m\u001b[0m\n",
      "\u001b[0;31mNameError\u001b[0m: name 'generate_results_df' is not defined"
     ]
    }
   ],
   "source": [
    "results_typo = generate_results_df(pmethod, ds, advds, extended_modified_predictions)\n",
    "results_typo"
   ]
  },
  {
   "cell_type": "code",
   "execution_count": null,
   "metadata": {},
   "outputs": [],
   "source": []
  },
  {
   "cell_type": "code",
   "execution_count": null,
   "metadata": {},
   "outputs": [],
   "source": []
  },
  {
   "cell_type": "markdown",
   "metadata": {},
   "source": [
    "### Dataloader"
   ]
  },
  {
   "cell_type": "code",
   "execution_count": null,
   "metadata": {},
   "outputs": [],
   "source": []
  },
  {
   "cell_type": "code",
   "execution_count": 37,
   "metadata": {},
   "outputs": [],
   "source": [
    "sentences, aspect_category_sentiments, (idx2aspectlabel, idx2sentilabel) = semeval_to_aspectsentiment_hr(filename)"
   ]
  },
  {
   "cell_type": "code",
   "execution_count": null,
   "metadata": {},
   "outputs": [],
   "source": []
  },
  {
   "cell_type": "code",
   "execution_count": 1,
   "metadata": {},
   "outputs": [
    {
     "ename": "NameError",
     "evalue": "name 'sentences' is not defined",
     "output_type": "error",
     "traceback": [
      "\u001b[0;31m---------------------------------------------------------------------------\u001b[0m",
      "\u001b[0;31mNameError\u001b[0m                                 Traceback (most recent call last)",
      "\u001b[0;32m<ipython-input-1-317bbbf38984>\u001b[0m in \u001b[0;36m<module>\u001b[0;34m\u001b[0m\n\u001b[0;32m----> 1\u001b[0;31m \u001b[0mlen\u001b[0m\u001b[0;34m(\u001b[0m\u001b[0msentences\u001b[0m\u001b[0;34m)\u001b[0m\u001b[0;34m\u001b[0m\u001b[0;34m\u001b[0m\u001b[0m\n\u001b[0m",
      "\u001b[0;31mNameError\u001b[0m: name 'sentences' is not defined"
     ]
    }
   ],
   "source": [
    "len(sentences)"
   ]
  },
  {
   "cell_type": "code",
   "execution_count": 39,
   "metadata": {},
   "outputs": [
    {
     "data": {
      "text/plain": [
       "1974"
      ]
     },
     "execution_count": 39,
     "metadata": {},
     "output_type": "execute_result"
    }
   ],
   "source": [
    "len(aspect_category_sentiments)"
   ]
  },
  {
   "cell_type": "code",
   "execution_count": 40,
   "metadata": {},
   "outputs": [
    {
     "data": {
      "text/plain": [
       "81"
      ]
     },
     "execution_count": 40,
     "metadata": {},
     "output_type": "execute_result"
    }
   ],
   "source": [
    "len((idx2aspectlabel))"
   ]
  },
  {
   "cell_type": "code",
   "execution_count": 41,
   "metadata": {},
   "outputs": [
    {
     "data": {
      "text/plain": [
       "{0: 'BATTERY#GENERAL',\n",
       " 1: 'BATTERY#MISCELLANEOUS',\n",
       " 2: 'BATTERY#OPERATION_PERFORMANCE',\n",
       " 3: 'BATTERY#QUALITY',\n",
       " 4: 'COMPANY#GENERAL',\n",
       " 5: 'CPU#MISCELLANEOUS',\n",
       " 6: 'CPU#OPERATION_PERFORMANCE',\n",
       " 7: 'CPU#QUALITY',\n",
       " 8: 'DISPLAY#DESIGN_FEATURES',\n",
       " 9: 'DISPLAY#GENERAL',\n",
       " 10: 'DISPLAY#MISCELLANEOUS',\n",
       " 11: 'DISPLAY#OPERATION_PERFORMANCE',\n",
       " 12: 'DISPLAY#QUALITY',\n",
       " 13: 'DISPLAY#USABILITY',\n",
       " 14: 'FANS_COOLING#DESIGN_FEATURES',\n",
       " 15: 'FANS_COOLING#OPERATION_PERFORMANCE',\n",
       " 16: 'FANS_COOLING#QUALITY',\n",
       " 17: 'GRAPHICS#DESIGN_FEATURES',\n",
       " 18: 'GRAPHICS#GENERAL',\n",
       " 19: 'GRAPHICS#MISCELLANEOUS',\n",
       " 20: 'GRAPHICS#QUALITY',\n",
       " 21: 'HARDWARE#QUALITY',\n",
       " 22: 'HARD_DISC#DESIGN_FEATURES',\n",
       " 23: 'HARD_DISC#QUALITY',\n",
       " 24: 'KEYBOARD#DESIGN_FEATURES',\n",
       " 25: 'KEYBOARD#GENERAL',\n",
       " 26: 'KEYBOARD#OPERATION_PERFORMANCE',\n",
       " 27: 'KEYBOARD#QUALITY',\n",
       " 28: 'KEYBOARD#USABILITY',\n",
       " 29: 'LAPTOP#CONNECTIVITY',\n",
       " 30: 'LAPTOP#DESIGN_FEATURES',\n",
       " 31: 'LAPTOP#GENERAL',\n",
       " 32: 'LAPTOP#MISCELLANEOUS',\n",
       " 33: 'LAPTOP#OPERATION_PERFORMANCE',\n",
       " 34: 'LAPTOP#PORTABILITY',\n",
       " 35: 'LAPTOP#PRICE',\n",
       " 36: 'LAPTOP#QUALITY',\n",
       " 37: 'LAPTOP#USABILITY',\n",
       " 38: 'MEMORY#DESIGN_FEATURES',\n",
       " 39: 'MOTHERBOARD#QUALITY',\n",
       " 40: 'MOUSE#DESIGN_FEATURES',\n",
       " 41: 'MOUSE#GENERAL',\n",
       " 42: 'MOUSE#OPERATION_PERFORMANCE',\n",
       " 43: 'MOUSE#QUALITY',\n",
       " 44: 'MOUSE#USABILITY',\n",
       " 45: 'MULTIMEDIA_DEVICES#DESIGN_FEATURES',\n",
       " 46: 'MULTIMEDIA_DEVICES#GENERAL',\n",
       " 47: 'MULTIMEDIA_DEVICES#MISCELLANEOUS',\n",
       " 48: 'MULTIMEDIA_DEVICES#OPERATION_PERFORMANCE',\n",
       " 49: 'MULTIMEDIA_DEVICES#QUALITY',\n",
       " 50: 'MULTIMEDIA_DEVICES#USABILITY',\n",
       " 51: 'OPTICAL_DRIVES#QUALITY',\n",
       " 52: 'OS#DESIGN_FEATURES',\n",
       " 53: 'OS#GENERAL',\n",
       " 54: 'OS#MISCELLANEOUS',\n",
       " 55: 'OS#OPERATION_PERFORMANCE',\n",
       " 56: 'OS#QUALITY',\n",
       " 57: 'OS#USABILITY',\n",
       " 58: 'PORTS#DESIGN_FEATURES',\n",
       " 59: 'PORTS#OPERATION_PERFORMANCE',\n",
       " 60: 'PORTS#QUALITY',\n",
       " 61: 'POWER_SUPPLY#DESIGN_FEATURES',\n",
       " 62: 'POWER_SUPPLY#MISCELLANEOUS',\n",
       " 63: 'POWER_SUPPLY#OPERATION_PERFORMANCE',\n",
       " 64: 'POWER_SUPPLY#QUALITY',\n",
       " 65: 'SHIPPING#PRICE',\n",
       " 66: 'SHIPPING#QUALITY',\n",
       " 67: 'SOFTWARE#DESIGN_FEATURES',\n",
       " 68: 'SOFTWARE#GENERAL',\n",
       " 69: 'SOFTWARE#MISCELLANEOUS',\n",
       " 70: 'SOFTWARE#OPERATION_PERFORMANCE',\n",
       " 71: 'SOFTWARE#PRICE',\n",
       " 72: 'SOFTWARE#QUALITY',\n",
       " 73: 'SOFTWARE#USABILITY',\n",
       " 74: 'SUPPORT#GENERAL',\n",
       " 75: 'SUPPORT#MISCELLANEOUS',\n",
       " 76: 'SUPPORT#PRICE',\n",
       " 77: 'SUPPORT#QUALITY',\n",
       " 78: 'WARRANTY#GENERAL',\n",
       " 79: 'WARRANTY#MISCELLANEOUS',\n",
       " 80: 'WARRANTY#PRICE'}"
      ]
     },
     "execution_count": 41,
     "metadata": {},
     "output_type": "execute_result"
    }
   ],
   "source": [
    "idx2aspectlabel"
   ]
  },
  {
   "cell_type": "code",
   "execution_count": null,
   "metadata": {},
   "outputs": [],
   "source": []
  },
  {
   "cell_type": "code",
   "execution_count": null,
   "metadata": {},
   "outputs": [],
   "source": []
  },
  {
   "cell_type": "code",
   "execution_count": 46,
   "metadata": {},
   "outputs": [],
   "source": [
    "important_words_nr1 = []\n",
    "important_words_nr2 = []\n",
    "important_words_nr3 = []"
   ]
  },
  {
   "cell_type": "code",
   "execution_count": 42,
   "metadata": {},
   "outputs": [],
   "source": [
    "sentence_packages = [{'original_sentence': 'This computer is absolutely AMAZING!!!', 'modified_sentences': [('This', 'computer is absolutely AMAZING!!!'), ('computer', 'This is absolutely AMAZING!!!'), ('is', 'This computer absolutely AMAZING!!!'), ('absolutely', 'This computer is AMAZING!!!'), ('AMAZING!!!', 'This computer is absolutely')]}, {'original_sentence': '10 plus hours of battery...', 'modified_sentences': [('10', 'plus hours of battery...'), ('plus', '10 hours of battery...'), ('hours', '10 plus of battery...'), ('of', '10 plus hours battery...'), ('battery...', '10 plus hours of')]}]"
   ]
  },
  {
   "cell_type": "code",
   "execution_count": 43,
   "metadata": {},
   "outputs": [
    {
     "data": {
      "text/plain": [
       "2"
      ]
     },
     "execution_count": 43,
     "metadata": {},
     "output_type": "execute_result"
    }
   ],
   "source": [
    "len(sentence_packages)"
   ]
  },
  {
   "cell_type": "code",
   "execution_count": 67,
   "metadata": {},
   "outputs": [],
   "source": [
    "original_results = [{'LAPTOP#GENERAL': 'POS'},\n",
    " {'BATTERY#OPERATION_PERFORMANCE': 'POS'},\n",
    " {'CPU#OPERATION_PERFORMANCE': 'POS', 'GRAPHICS#GENERAL': 'POS'},\n",
    " {'CPU#OPERATION_PERFORMANCE': 'POS', 'GRAPHICS#GENERAL': 'POS'},\n",
    " {'HARD_DISC#hellooo': 'POS'}]\n",
    "\n",
    "modified_results = [{'LAPTOP#GENERAL': 'POS'},\n",
    " {'BATTERY#OPERATION_PERFORMANCE': 'POS'},\n",
    " {'CPU#OPERATION_PERFORMANCE': 'POS', 'GRAPHICS#GENERAL': 'POS'},\n",
    " {'CPU#OPERATION_PERFORMANCE': 'POS', 'GRAPHICS#GENERAL': 'POS'},\n",
    " {'HARD_DISC#hellooo': 'POS'},{'LAPTOP#GENERAL': 'POS'},\n",
    " {'BATTERY#OPERATION_PERFORMANCE': 'POS'},\n",
    " {'CPU#OPERATION_PERFORMANCE': 'POS', 'GRAPHICS#GENERAL': 'POS'},\n",
    " {'CPU#BLALLAL': 'POS', 'GRAPHICS#GENERAL': 'POS'},\n",
    " {'HARD_DISC#hellooo': 'POS'},{'LAPTOP#GENERAL': 'POS'},\n",
    " {'BATTERY#OPERATION_PERFORMANCE': 'POS'},\n",
    " {'CPU#OPERATION_PERFORMANCE': 'POS', 'GRdfsaERAL': 'POS'},\n",
    " {'CPU#OPERATION_PERFORMANCE': 'POS', 'GRAPHICS#GENERAL': 'POS'},\n",
    " {'HARD_DISC#hellooo': 'POS'},{'LAPTOP#GENERAL': 'POS'},\n",
    " {'BATTERY#OPERATION_PERFORMANCE': 'POS'},\n",
    " {'CPU#OPERATION_PERFORMANCE': 'POS', 'GRAPHICS#GENERAL': 'POS'},\n",
    " {'CPU#OPERATION_PERFORMANCE': 'POS', 'GRAPHICS#GENERAL': 'POS'},\n",
    " {'HARD_DISC#hellooo': 'POS'},{'LAPTOP#GENERAL': 'POS'},\n",
    " {'BATTERY#OPERATION_PERFORMANCE': 'POS'},\n",
    " {'CPU#OPERATION_PERFORMANCE': 'POS', 'GRAPHICS#GENERAL': 'POS'},\n",
    " {'CPU#OPERATION_PERFORMANCE': 'POS', 'GRAPHICS#GENERAL': 'POS'},\n",
    " {'HARD_DISC#hellooo': 'POS'}]"
   ]
  },
  {
   "cell_type": "code",
   "execution_count": null,
   "metadata": {},
   "outputs": [],
   "source": []
  },
  {
   "cell_type": "code",
   "execution_count": 68,
   "metadata": {},
   "outputs": [],
   "source": [
    "important_words_1 = []\n",
    "important_words_2 = []\n",
    "important_words_3 = []\n",
    "\n",
    "for e, package in enumerate(sentence_packages): \n",
    "    important_words_nr1 = []\n",
    "    important_words_nr2 = []\n",
    "    important_words_nr3 = []\n",
    "    original_sentence = package['original_sentence']\n",
    "    # print('new package: ' + original_sentence)\n",
    "\n",
    "    original_result = original_results[e]\n",
    "    \n",
    "    for key, value in original_result.items():\n",
    "        original_entity = key.split(\"#\")[0]\n",
    "        original_attribute = key.split(\"#\")[1]\n",
    "        original_sentiment = value\n",
    "\n",
    "    for item in package['modified_sentences']:\n",
    "        word = item[0]\n",
    "        # sentence = item[1]\n",
    "        # modified_result = tp.predict_sentiment(model, tokenizer, sentence)\n",
    "        modified_result = modified_results[e]       \n",
    "        \n",
    "        for key, value in modified_result.items():\n",
    "            mod_entity = key.split(\"#\")[0]\n",
    "            mod_attribute = key.split(\"#\")[1]\n",
    "            mod_sentiment = value\n",
    "        \n",
    "        modification = 0\n",
    "        if mod_entity != original_entity:\n",
    "            modification += 1\n",
    "        if mod_attribute != original_attribute:\n",
    "            modification += 1\n",
    "        if mod_sentiment != original_sentiment:\n",
    "            modification += 1\n",
    "        \n",
    "        if modification > 2:\n",
    "            important_words_nr1.append(word)\n",
    "        elif modification == 2:\n",
    "            important_words_nr2.append(word)\n",
    "        else: \n",
    "            important_words_nr3.append(word)\n",
    "\n",
    "\n",
    "            \n",
    "            \n",
    "    important_words_1.append(important_words_nr1)\n",
    "    important_words_2.append(important_words_nr2)\n",
    "    important_words_3.append(important_words_nr3)\n",
    "\n"
   ]
  },
  {
   "cell_type": "code",
   "execution_count": 69,
   "metadata": {},
   "outputs": [
    {
     "name": "stdout",
     "output_type": "stream",
     "text": [
      "[[], []]\n"
     ]
    }
   ],
   "source": [
    "print(important_words_1)"
   ]
  },
  {
   "cell_type": "code",
   "execution_count": 70,
   "metadata": {},
   "outputs": [
    {
     "name": "stdout",
     "output_type": "stream",
     "text": [
      "[[], []]\n"
     ]
    }
   ],
   "source": [
    "print(important_words_2)"
   ]
  },
  {
   "cell_type": "code",
   "execution_count": 71,
   "metadata": {},
   "outputs": [
    {
     "name": "stdout",
     "output_type": "stream",
     "text": [
      "[['This', 'computer', 'is', 'absolutely', 'AMAZING!!!'], ['10', 'plus', 'hours', 'of', 'battery...']]\n"
     ]
    }
   ],
   "source": [
    "print(important_words_3)"
   ]
  },
  {
   "cell_type": "code",
   "execution_count": null,
   "metadata": {},
   "outputs": [],
   "source": []
  },
  {
   "cell_type": "code",
   "execution_count": 1,
   "metadata": {},
   "outputs": [],
   "source": [
    "sentiment_o = 'POS'\n",
    "aspect_o = 'Laptops'"
   ]
  },
  {
   "cell_type": "code",
   "execution_count": null,
   "metadata": {},
   "outputs": [],
   "source": [
    "sentminet_m = 'NEG'\n",
    "modified_aspect = 'Laptops'"
   ]
  },
  {
   "cell_type": "code",
   "execution_count": null,
   "metadata": {},
   "outputs": [],
   "source": [
    "if modified_aspect != original_aspect or modified_sentiment != original_sentiment:\n",
    "            print(\"changed\")"
   ]
  },
  {
   "cell_type": "code",
   "execution_count": null,
   "metadata": {},
   "outputs": [],
   "source": []
  },
  {
   "cell_type": "code",
   "execution_count": 184,
   "metadata": {},
   "outputs": [],
   "source": [
    "original_sentences = ['This computer is absolutely AMAZING!!!',\n",
    "                         '10 plus hours of battery...',\n",
    "                         'super fast processor and really nice graphics card..',\n",
    "                         'super fast processor and really nice graphics card..',\n",
    "                         'and plenty of storage with 250 gb(though I will upgrade this and the ram..)']\n",
    "important_words_list = [[], [], ['card..'], ['card..'], ['plenty', 'storage']]\n",
    "modified_words_list = [[], [], ['c4rd..'], ['c4rd..'], ['p13nty', '5t0r4g3']]"
   ]
  },
  {
   "cell_type": "code",
   "execution_count": 190,
   "metadata": {},
   "outputs": [],
   "source": [
    "def generate_modified_sentences(original_sentences, important_words_list, modified_words_list):\n",
    "    \n",
    "    modified_sentences_list = []\n",
    "    for sent_idx, sentence in enumerate(original_sentences):\n",
    "        print(sent_idx, sentence)\n",
    "        print(important_words_list[sent_idx])\n",
    "        \n",
    "        # if not important_words_list[sent_idx]:\n",
    "        #    important_words_list[sent_idx] = None\n",
    "        \n",
    "        modified_sentences = []\n",
    "        # for iword_idx, iword in enumerate(important_words_list[sent_idx]):\n",
    "        for iword_idx, iword in enumerate(important_words_list[sent_idx]):\n",
    "            \n",
    "            print('len', len(important_words_list[sent_idx]))\n",
    "            print('-->', iword_idx, iword)\n",
    "\n",
    "            modified_sentences.append(sentence[sent_idx].replace(iword[iword_idx], modified_words_list[sent_idx][iword_idx]))\n",
    "        modified_sentences_list.append(modified_sentences)\n",
    "        \n",
    "    return modified_sentences_list"
   ]
  },
  {
   "cell_type": "code",
   "execution_count": 191,
   "metadata": {},
   "outputs": [
    {
     "name": "stdout",
     "output_type": "stream",
     "text": [
      "0 This computer is absolutely AMAZING!!!\n",
      "[]\n",
      "1 10 plus hours of battery...\n",
      "[]\n",
      "2 super fast processor and really nice graphics card..\n",
      "['card..']\n",
      "len 1\n",
      "--> 0 card..\n",
      "3 super fast processor and really nice graphics card..\n",
      "['card..']\n",
      "len 1\n",
      "--> 0 card..\n",
      "4 and plenty of storage with 250 gb(though I will upgrade this and the ram..)\n",
      "['plenty', 'storage']\n",
      "len 2\n",
      "--> 0 plenty\n",
      "len 2\n",
      "--> 1 storage\n"
     ]
    }
   ],
   "source": [
    "modified_sentences_list = generate_modified_sentences(original_sentences, important_words_list, modified_words_list)"
   ]
  },
  {
   "cell_type": "code",
   "execution_count": 193,
   "metadata": {},
   "outputs": [
    {
     "data": {
      "text/plain": [
       "[[], [], ['p'], ['e'], ['p13nty', 'p']]"
      ]
     },
     "execution_count": 193,
     "metadata": {},
     "output_type": "execute_result"
    }
   ],
   "source": [
    "modified_sentences_list"
   ]
  },
  {
   "cell_type": "code",
   "execution_count": 192,
   "metadata": {},
   "outputs": [
    {
     "name": "stdout",
     "output_type": "stream",
     "text": [
      "empty\n",
      "empty\n"
     ]
    }
   ],
   "source": [
    "important_words_list = [[], [], ['card..'], ['card..'], ['plenty', 'storage']]\n",
    "for item in important_words_list:\n",
    "    if len(item) == 0:\n",
    "        print('empty')\n",
    "        \n",
    "        \n",
    "        \n",
    "        \n",
    "        "
   ]
  },
  {
   "cell_type": "code",
   "execution_count": 138,
   "metadata": {},
   "outputs": [
    {
     "name": "stdout",
     "output_type": "stream",
     "text": [
      "0 This computer is absolutely AMAZING!!!\n",
      "1 10 plus hours of battery...\n",
      "2 super fast processor and really nice graphics card..\n",
      "len 1\n",
      "--> 0 card..\n",
      "3 super fast processor and really nice graphics card..\n",
      "len 1\n",
      "--> 0 card..\n",
      "4 and plenty of storage with 250 gb(though I will upgrade this and the ram..)\n",
      "len 2\n",
      "--> 0 plenty\n",
      "len 2\n",
      "--> 1 storage\n"
     ]
    }
   ],
   "source": [
    "modified_sentences_list = generate_modified_sentences(original_sentences, important_words_list, modified_words_list)"
   ]
  },
  {
   "cell_type": "code",
   "execution_count": 124,
   "metadata": {},
   "outputs": [
    {
     "data": {
      "text/plain": [
       "[[], [], ['p'], ['e'], ['p13nty', 'p']]"
      ]
     },
     "execution_count": 124,
     "metadata": {},
     "output_type": "execute_result"
    }
   ],
   "source": [
    "modified_sentences_list"
   ]
  },
  {
   "cell_type": "code",
   "execution_count": null,
   "metadata": {},
   "outputs": [],
   "source": [
    "if modified_words[index] is None:\n",
    "            modified_sentences.append(sentence)\n",
    "            continue  \n",
    "            \n",
    "        \n",
    "        \n",
    "            \n",
    "        if isinstance(modified_words[index], list): \n",
    "            modified_sentences_list = []\n",
    "            for word in modified_words[index]:\n",
    "                modified_sentences_list.append(sentence.replace(important_words[index], word))\n",
    "            modified_sentences.append(modified_sentences_list)               \n",
    "            continue    \n",
    "        print(important_words[index], modified_words[index])\n",
    "        modified_sentences.append(sentence.replace(important_words[index], modified_words[index]))   "
   ]
  },
  {
   "cell_type": "code",
   "execution_count": 28,
   "metadata": {},
   "outputs": [
    {
     "name": "stdout",
     "output_type": "stream",
     "text": [
      "['first', 'sentcens'] 1st\n"
     ]
    },
    {
     "ename": "TypeError",
     "evalue": "replace() argument 1 must be str, not list",
     "output_type": "error",
     "traceback": [
      "\u001b[0;31m---------------------------------------------------------------------------\u001b[0m",
      "\u001b[0;31mTypeError\u001b[0m                                 Traceback (most recent call last)",
      "\u001b[0;32m<ipython-input-28-d2c4e0c6652a>\u001b[0m in \u001b[0;36m<module>\u001b[0;34m\u001b[0m\n\u001b[0;32m----> 1\u001b[0;31m \u001b[0mmodified_sentences\u001b[0m \u001b[0;34m=\u001b[0m \u001b[0mgenerate_modified_sentences\u001b[0m\u001b[0;34m(\u001b[0m\u001b[0moriginal_sentences\u001b[0m\u001b[0;34m,\u001b[0m \u001b[0mimportant_words\u001b[0m\u001b[0;34m,\u001b[0m \u001b[0mmodified_words\u001b[0m\u001b[0;34m)\u001b[0m\u001b[0;34m\u001b[0m\u001b[0;34m\u001b[0m\u001b[0m\n\u001b[0m",
      "\u001b[0;32m<ipython-input-27-2e0b03e1a603>\u001b[0m in \u001b[0;36mgenerate_modified_sentences\u001b[0;34m(original_sentences, important_words, modified_words)\u001b[0m\n\u001b[1;32m     29\u001b[0m             \u001b[0;32mcontinue\u001b[0m\u001b[0;34m\u001b[0m\u001b[0;34m\u001b[0m\u001b[0m\n\u001b[1;32m     30\u001b[0m         \u001b[0mprint\u001b[0m\u001b[0;34m(\u001b[0m\u001b[0mimportant_words\u001b[0m\u001b[0;34m[\u001b[0m\u001b[0mindex\u001b[0m\u001b[0;34m]\u001b[0m\u001b[0;34m,\u001b[0m \u001b[0mmodified_words\u001b[0m\u001b[0;34m[\u001b[0m\u001b[0mindex\u001b[0m\u001b[0;34m]\u001b[0m\u001b[0;34m)\u001b[0m\u001b[0;34m\u001b[0m\u001b[0;34m\u001b[0m\u001b[0m\n\u001b[0;32m---> 31\u001b[0;31m         \u001b[0mmodified_sentences\u001b[0m\u001b[0;34m.\u001b[0m\u001b[0mappend\u001b[0m\u001b[0;34m(\u001b[0m\u001b[0msentence\u001b[0m\u001b[0;34m.\u001b[0m\u001b[0mreplace\u001b[0m\u001b[0;34m(\u001b[0m\u001b[0mimportant_words\u001b[0m\u001b[0;34m[\u001b[0m\u001b[0mindex\u001b[0m\u001b[0;34m]\u001b[0m\u001b[0;34m,\u001b[0m \u001b[0mmodified_words\u001b[0m\u001b[0;34m[\u001b[0m\u001b[0mindex\u001b[0m\u001b[0;34m]\u001b[0m\u001b[0;34m)\u001b[0m\u001b[0;34m)\u001b[0m\u001b[0;34m\u001b[0m\u001b[0;34m\u001b[0m\u001b[0m\n\u001b[0m\u001b[1;32m     32\u001b[0m \u001b[0;34m\u001b[0m\u001b[0m\n\u001b[1;32m     33\u001b[0m     \u001b[0;32mreturn\u001b[0m \u001b[0mmodified_sentences\u001b[0m\u001b[0;34m\u001b[0m\u001b[0;34m\u001b[0m\u001b[0m\n",
      "\u001b[0;31mTypeError\u001b[0m: replace() argument 1 must be str, not list"
     ]
    }
   ],
   "source": [
    "modified_sentences = generate_modified_sentences(original_sentences, important_words, modified_words)"
   ]
  },
  {
   "cell_type": "code",
   "execution_count": 23,
   "metadata": {},
   "outputs": [
    {
     "data": {
      "text/plain": [
       "['1st sentcens is very beautiful',\n",
       " ['2nd too but I have to test tho', 'zweiter too but I have to test tho'],\n",
       " 'and the 3rd yess']"
      ]
     },
     "execution_count": 23,
     "metadata": {},
     "output_type": "execute_result"
    }
   ],
   "source": [
    "modified_sentences"
   ]
  },
  {
   "cell_type": "code",
   "execution_count": null,
   "metadata": {},
   "outputs": [],
   "source": []
  }
 ],
 "metadata": {
  "kernelspec": {
   "display_name": "Python 3",
   "language": "python",
   "name": "python3"
  },
  "language_info": {
   "codemirror_mode": {
    "name": "ipython",
    "version": 3
   },
   "file_extension": ".py",
   "mimetype": "text/x-python",
   "name": "python",
   "nbconvert_exporter": "python",
   "pygments_lexer": "ipython3",
   "version": "3.6.9"
  }
 },
 "nbformat": 4,
 "nbformat_minor": 4
}
