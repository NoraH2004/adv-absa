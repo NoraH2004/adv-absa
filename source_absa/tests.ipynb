{
 "cells": [
  {
   "cell_type": "code",
   "execution_count": 26,
   "metadata": {},
   "outputs": [],
   "source": [
    "import os\n",
    "import numpy as np\n",
    "import pandas as pd\n",
    "import seaborn as sn\n",
    "import matplotlib.pyplot as plt\n",
    "import xml.etree.ElementTree as ET\n",
    "from sklearn.metrics import confusion_matrix\n",
    "\n",
    "import utils.text_processing as tp"
   ]
  },
  {
   "cell_type": "code",
   "execution_count": 12,
   "metadata": {},
   "outputs": [],
   "source": [
    "pmethod = 'typos'"
   ]
  },
  {
   "cell_type": "code",
   "execution_count": 13,
   "metadata": {},
   "outputs": [],
   "source": [
    "%store -r important_words\n",
    "%store -r sentence_packages\n",
    "%store -r ds\n",
    "%store -r advds\n",
    "%store -r extended_original_predictions\n",
    "%store -r extended_modified_predictions"
   ]
  },
  {
   "cell_type": "code",
   "execution_count": 14,
   "metadata": {},
   "outputs": [
    {
     "data": {
      "text/plain": [
       "2092"
      ]
     },
     "execution_count": 14,
     "metadata": {},
     "output_type": "execute_result"
    }
   ],
   "source": [
    "len(extended_modified_predictions)"
   ]
  },
  {
   "cell_type": "code",
   "execution_count": 15,
   "metadata": {},
   "outputs": [
    {
     "ename": "SyntaxError",
     "evalue": "invalid syntax (<ipython-input-15-1a944b694641>, line 3)",
     "output_type": "error",
     "traceback": [
      "\u001b[0;36m  File \u001b[0;32m\"<ipython-input-15-1a944b694641>\"\u001b[0;36m, line \u001b[0;32m3\u001b[0m\n\u001b[0;31m    if\u001b[0m\n\u001b[0m             ^\u001b[0m\n\u001b[0;31mSyntaxError\u001b[0m\u001b[0;31m:\u001b[0m invalid syntax\n"
     ]
    }
   ],
   "source": [
    "def generate_results_df(pmethod, ds, advds, extended):  \n",
    "    \n",
    "    if       \n",
    "    results = pd.DataFrame({\n",
    "     'Perturbation Method': [pmethod],\n",
    "     'Tokenizer': ['nlptown/bert-base-multilingual-uncased-sentiment'], \n",
    "     'Model' : ['nlptown/bert-base-multilingual-uncased-sentiment'], \n",
    "     'Dataset':['TripAdvisor Hotel Reviews'], \n",
    "     'Output lables': ['Range from 0 to 4 - 0 = NEG; 4 = POS'],\n",
    "     'Items in original dataset': len(ds),\n",
    "     'Number of modifyable items in original dataset': len(advds),\n",
    "     'Items in adversarial dataset': len(extended),\n",
    "     'Percentage': (len(advds)/len(ds)*100)})\n",
    "    \n",
    "    return results.T"
   ]
  },
  {
   "cell_type": "code",
   "execution_count": 16,
   "metadata": {},
   "outputs": [
    {
     "ename": "NameError",
     "evalue": "name 'generate_results_df' is not defined",
     "output_type": "error",
     "traceback": [
      "\u001b[0;31m---------------------------------------------------------------------------\u001b[0m",
      "\u001b[0;31mNameError\u001b[0m                                 Traceback (most recent call last)",
      "\u001b[0;32m<ipython-input-16-a8cfc82cf570>\u001b[0m in \u001b[0;36m<module>\u001b[0;34m\u001b[0m\n\u001b[0;32m----> 1\u001b[0;31m \u001b[0mresults_typo\u001b[0m \u001b[0;34m=\u001b[0m \u001b[0mgenerate_results_df\u001b[0m\u001b[0;34m(\u001b[0m\u001b[0mpmethod\u001b[0m\u001b[0;34m,\u001b[0m \u001b[0mds\u001b[0m\u001b[0;34m,\u001b[0m \u001b[0madvds\u001b[0m\u001b[0;34m,\u001b[0m \u001b[0mextended_modified_predictions\u001b[0m\u001b[0;34m)\u001b[0m\u001b[0;34m\u001b[0m\u001b[0;34m\u001b[0m\u001b[0m\n\u001b[0m\u001b[1;32m      2\u001b[0m \u001b[0mresults_typo\u001b[0m\u001b[0;34m\u001b[0m\u001b[0;34m\u001b[0m\u001b[0m\n",
      "\u001b[0;31mNameError\u001b[0m: name 'generate_results_df' is not defined"
     ]
    }
   ],
   "source": [
    "results_typo = generate_results_df(pmethod, ds, advds, extended_modified_predictions)\n",
    "results_typo"
   ]
  },
  {
   "cell_type": "code",
   "execution_count": null,
   "metadata": {},
   "outputs": [],
   "source": []
  },
  {
   "cell_type": "code",
   "execution_count": null,
   "metadata": {},
   "outputs": [],
   "source": []
  },
  {
   "cell_type": "markdown",
   "metadata": {},
   "source": [
    "### Dataloader"
   ]
  },
  {
   "cell_type": "code",
   "execution_count": null,
   "metadata": {},
   "outputs": [],
   "source": []
  },
  {
   "cell_type": "code",
   "execution_count": 37,
   "metadata": {},
   "outputs": [],
   "source": [
    "sentences, aspect_category_sentiments, (idx2aspectlabel, idx2sentilabel) = semeval_to_aspectsentiment_hr(filename)"
   ]
  },
  {
   "cell_type": "code",
   "execution_count": null,
   "metadata": {},
   "outputs": [],
   "source": []
  },
  {
   "cell_type": "code",
   "execution_count": 1,
   "metadata": {},
   "outputs": [
    {
     "ename": "NameError",
     "evalue": "name 'sentences' is not defined",
     "output_type": "error",
     "traceback": [
      "\u001b[0;31m---------------------------------------------------------------------------\u001b[0m",
      "\u001b[0;31mNameError\u001b[0m                                 Traceback (most recent call last)",
      "\u001b[0;32m<ipython-input-1-317bbbf38984>\u001b[0m in \u001b[0;36m<module>\u001b[0;34m\u001b[0m\n\u001b[0;32m----> 1\u001b[0;31m \u001b[0mlen\u001b[0m\u001b[0;34m(\u001b[0m\u001b[0msentences\u001b[0m\u001b[0;34m)\u001b[0m\u001b[0;34m\u001b[0m\u001b[0;34m\u001b[0m\u001b[0m\n\u001b[0m",
      "\u001b[0;31mNameError\u001b[0m: name 'sentences' is not defined"
     ]
    }
   ],
   "source": [
    "len(sentences)"
   ]
  },
  {
   "cell_type": "code",
   "execution_count": 39,
   "metadata": {},
   "outputs": [
    {
     "data": {
      "text/plain": [
       "1974"
      ]
     },
     "execution_count": 39,
     "metadata": {},
     "output_type": "execute_result"
    }
   ],
   "source": [
    "len(aspect_category_sentiments)"
   ]
  },
  {
   "cell_type": "code",
   "execution_count": 40,
   "metadata": {},
   "outputs": [
    {
     "data": {
      "text/plain": [
       "81"
      ]
     },
     "execution_count": 40,
     "metadata": {},
     "output_type": "execute_result"
    }
   ],
   "source": [
    "len((idx2aspectlabel))"
   ]
  },
  {
   "cell_type": "code",
   "execution_count": 41,
   "metadata": {},
   "outputs": [
    {
     "data": {
      "text/plain": [
       "{0: 'BATTERY#GENERAL',\n",
       " 1: 'BATTERY#MISCELLANEOUS',\n",
       " 2: 'BATTERY#OPERATION_PERFORMANCE',\n",
       " 3: 'BATTERY#QUALITY',\n",
       " 4: 'COMPANY#GENERAL',\n",
       " 5: 'CPU#MISCELLANEOUS',\n",
       " 6: 'CPU#OPERATION_PERFORMANCE',\n",
       " 7: 'CPU#QUALITY',\n",
       " 8: 'DISPLAY#DESIGN_FEATURES',\n",
       " 9: 'DISPLAY#GENERAL',\n",
       " 10: 'DISPLAY#MISCELLANEOUS',\n",
       " 11: 'DISPLAY#OPERATION_PERFORMANCE',\n",
       " 12: 'DISPLAY#QUALITY',\n",
       " 13: 'DISPLAY#USABILITY',\n",
       " 14: 'FANS_COOLING#DESIGN_FEATURES',\n",
       " 15: 'FANS_COOLING#OPERATION_PERFORMANCE',\n",
       " 16: 'FANS_COOLING#QUALITY',\n",
       " 17: 'GRAPHICS#DESIGN_FEATURES',\n",
       " 18: 'GRAPHICS#GENERAL',\n",
       " 19: 'GRAPHICS#MISCELLANEOUS',\n",
       " 20: 'GRAPHICS#QUALITY',\n",
       " 21: 'HARDWARE#QUALITY',\n",
       " 22: 'HARD_DISC#DESIGN_FEATURES',\n",
       " 23: 'HARD_DISC#QUALITY',\n",
       " 24: 'KEYBOARD#DESIGN_FEATURES',\n",
       " 25: 'KEYBOARD#GENERAL',\n",
       " 26: 'KEYBOARD#OPERATION_PERFORMANCE',\n",
       " 27: 'KEYBOARD#QUALITY',\n",
       " 28: 'KEYBOARD#USABILITY',\n",
       " 29: 'LAPTOP#CONNECTIVITY',\n",
       " 30: 'LAPTOP#DESIGN_FEATURES',\n",
       " 31: 'LAPTOP#GENERAL',\n",
       " 32: 'LAPTOP#MISCELLANEOUS',\n",
       " 33: 'LAPTOP#OPERATION_PERFORMANCE',\n",
       " 34: 'LAPTOP#PORTABILITY',\n",
       " 35: 'LAPTOP#PRICE',\n",
       " 36: 'LAPTOP#QUALITY',\n",
       " 37: 'LAPTOP#USABILITY',\n",
       " 38: 'MEMORY#DESIGN_FEATURES',\n",
       " 39: 'MOTHERBOARD#QUALITY',\n",
       " 40: 'MOUSE#DESIGN_FEATURES',\n",
       " 41: 'MOUSE#GENERAL',\n",
       " 42: 'MOUSE#OPERATION_PERFORMANCE',\n",
       " 43: 'MOUSE#QUALITY',\n",
       " 44: 'MOUSE#USABILITY',\n",
       " 45: 'MULTIMEDIA_DEVICES#DESIGN_FEATURES',\n",
       " 46: 'MULTIMEDIA_DEVICES#GENERAL',\n",
       " 47: 'MULTIMEDIA_DEVICES#MISCELLANEOUS',\n",
       " 48: 'MULTIMEDIA_DEVICES#OPERATION_PERFORMANCE',\n",
       " 49: 'MULTIMEDIA_DEVICES#QUALITY',\n",
       " 50: 'MULTIMEDIA_DEVICES#USABILITY',\n",
       " 51: 'OPTICAL_DRIVES#QUALITY',\n",
       " 52: 'OS#DESIGN_FEATURES',\n",
       " 53: 'OS#GENERAL',\n",
       " 54: 'OS#MISCELLANEOUS',\n",
       " 55: 'OS#OPERATION_PERFORMANCE',\n",
       " 56: 'OS#QUALITY',\n",
       " 57: 'OS#USABILITY',\n",
       " 58: 'PORTS#DESIGN_FEATURES',\n",
       " 59: 'PORTS#OPERATION_PERFORMANCE',\n",
       " 60: 'PORTS#QUALITY',\n",
       " 61: 'POWER_SUPPLY#DESIGN_FEATURES',\n",
       " 62: 'POWER_SUPPLY#MISCELLANEOUS',\n",
       " 63: 'POWER_SUPPLY#OPERATION_PERFORMANCE',\n",
       " 64: 'POWER_SUPPLY#QUALITY',\n",
       " 65: 'SHIPPING#PRICE',\n",
       " 66: 'SHIPPING#QUALITY',\n",
       " 67: 'SOFTWARE#DESIGN_FEATURES',\n",
       " 68: 'SOFTWARE#GENERAL',\n",
       " 69: 'SOFTWARE#MISCELLANEOUS',\n",
       " 70: 'SOFTWARE#OPERATION_PERFORMANCE',\n",
       " 71: 'SOFTWARE#PRICE',\n",
       " 72: 'SOFTWARE#QUALITY',\n",
       " 73: 'SOFTWARE#USABILITY',\n",
       " 74: 'SUPPORT#GENERAL',\n",
       " 75: 'SUPPORT#MISCELLANEOUS',\n",
       " 76: 'SUPPORT#PRICE',\n",
       " 77: 'SUPPORT#QUALITY',\n",
       " 78: 'WARRANTY#GENERAL',\n",
       " 79: 'WARRANTY#MISCELLANEOUS',\n",
       " 80: 'WARRANTY#PRICE'}"
      ]
     },
     "execution_count": 41,
     "metadata": {},
     "output_type": "execute_result"
    }
   ],
   "source": [
    "idx2aspectlabel"
   ]
  },
  {
   "cell_type": "code",
   "execution_count": null,
   "metadata": {},
   "outputs": [],
   "source": []
  },
  {
   "cell_type": "code",
   "execution_count": null,
   "metadata": {},
   "outputs": [],
   "source": []
  },
  {
   "cell_type": "code",
   "execution_count": 46,
   "metadata": {},
   "outputs": [],
   "source": [
    "important_words_nr1 = []\n",
    "important_words_nr2 = []\n",
    "important_words_nr3 = []"
   ]
  },
  {
   "cell_type": "code",
   "execution_count": 42,
   "metadata": {},
   "outputs": [],
   "source": [
    "sentence_packages = [{'original_sentence': 'This computer is absolutely AMAZING!!!', 'modified_sentences': [('This', 'computer is absolutely AMAZING!!!'), ('computer', 'This is absolutely AMAZING!!!'), ('is', 'This computer absolutely AMAZING!!!'), ('absolutely', 'This computer is AMAZING!!!'), ('AMAZING!!!', 'This computer is absolutely')]}, {'original_sentence': '10 plus hours of battery...', 'modified_sentences': [('10', 'plus hours of battery...'), ('plus', '10 hours of battery...'), ('hours', '10 plus of battery...'), ('of', '10 plus hours battery...'), ('battery...', '10 plus hours of')]}]"
   ]
  },
  {
   "cell_type": "code",
   "execution_count": 43,
   "metadata": {},
   "outputs": [
    {
     "data": {
      "text/plain": [
       "2"
      ]
     },
     "execution_count": 43,
     "metadata": {},
     "output_type": "execute_result"
    }
   ],
   "source": [
    "len(sentence_packages)"
   ]
  },
  {
   "cell_type": "code",
   "execution_count": 67,
   "metadata": {},
   "outputs": [],
   "source": [
    "original_results = [{'LAPTOP#GENERAL': 'POS'},\n",
    " {'BATTERY#OPERATION_PERFORMANCE': 'POS'},\n",
    " {'CPU#OPERATION_PERFORMANCE': 'POS', 'GRAPHICS#GENERAL': 'POS'},\n",
    " {'CPU#OPERATION_PERFORMANCE': 'POS', 'GRAPHICS#GENERAL': 'POS'},\n",
    " {'HARD_DISC#hellooo': 'POS'}]\n",
    "\n",
    "modified_results = [{'LAPTOP#GENERAL': 'POS'},\n",
    " {'BATTERY#OPERATION_PERFORMANCE': 'POS'},\n",
    " {'CPU#OPERATION_PERFORMANCE': 'POS', 'GRAPHICS#GENERAL': 'POS'},\n",
    " {'CPU#OPERATION_PERFORMANCE': 'POS', 'GRAPHICS#GENERAL': 'POS'},\n",
    " {'HARD_DISC#hellooo': 'POS'},{'LAPTOP#GENERAL': 'POS'},\n",
    " {'BATTERY#OPERATION_PERFORMANCE': 'POS'},\n",
    " {'CPU#OPERATION_PERFORMANCE': 'POS', 'GRAPHICS#GENERAL': 'POS'},\n",
    " {'CPU#BLALLAL': 'POS', 'GRAPHICS#GENERAL': 'POS'},\n",
    " {'HARD_DISC#hellooo': 'POS'},{'LAPTOP#GENERAL': 'POS'},\n",
    " {'BATTERY#OPERATION_PERFORMANCE': 'POS'},\n",
    " {'CPU#OPERATION_PERFORMANCE': 'POS', 'GRdfsaERAL': 'POS'},\n",
    " {'CPU#OPERATION_PERFORMANCE': 'POS', 'GRAPHICS#GENERAL': 'POS'},\n",
    " {'HARD_DISC#hellooo': 'POS'},{'LAPTOP#GENERAL': 'POS'},\n",
    " {'BATTERY#OPERATION_PERFORMANCE': 'POS'},\n",
    " {'CPU#OPERATION_PERFORMANCE': 'POS', 'GRAPHICS#GENERAL': 'POS'},\n",
    " {'CPU#OPERATION_PERFORMANCE': 'POS', 'GRAPHICS#GENERAL': 'POS'},\n",
    " {'HARD_DISC#hellooo': 'POS'},{'LAPTOP#GENERAL': 'POS'},\n",
    " {'BATTERY#OPERATION_PERFORMANCE': 'POS'},\n",
    " {'CPU#OPERATION_PERFORMANCE': 'POS', 'GRAPHICS#GENERAL': 'POS'},\n",
    " {'CPU#OPERATION_PERFORMANCE': 'POS', 'GRAPHICS#GENERAL': 'POS'},\n",
    " {'HARD_DISC#hellooo': 'POS'}]"
   ]
  },
  {
   "cell_type": "code",
   "execution_count": null,
   "metadata": {},
   "outputs": [],
   "source": []
  },
  {
   "cell_type": "code",
   "execution_count": 68,
   "metadata": {},
   "outputs": [],
   "source": [
    "important_words_1 = []\n",
    "important_words_2 = []\n",
    "important_words_3 = []\n",
    "\n",
    "for e, package in enumerate(sentence_packages): \n",
    "    important_words_nr1 = []\n",
    "    important_words_nr2 = []\n",
    "    important_words_nr3 = []\n",
    "    original_sentence = package['original_sentence']\n",
    "    # print('new package: ' + original_sentence)\n",
    "\n",
    "    original_result = original_results[e]\n",
    "    \n",
    "    for key, value in original_result.items():\n",
    "        original_entity = key.split(\"#\")[0]\n",
    "        original_attribute = key.split(\"#\")[1]\n",
    "        original_sentiment = value\n",
    "\n",
    "    for item in package['modified_sentences']:\n",
    "        word = item[0]\n",
    "        # sentence = item[1]\n",
    "        # modified_result = tp.predict_sentiment(model, tokenizer, sentence)\n",
    "        modified_result = modified_results[e]       \n",
    "        \n",
    "        for key, value in modified_result.items():\n",
    "            mod_entity = key.split(\"#\")[0]\n",
    "            mod_attribute = key.split(\"#\")[1]\n",
    "            mod_sentiment = value\n",
    "        \n",
    "        modification = 0\n",
    "        if mod_entity != original_entity:\n",
    "            modification += 1\n",
    "        if mod_attribute != original_attribute:\n",
    "            modification += 1\n",
    "        if mod_sentiment != original_sentiment:\n",
    "            modification += 1\n",
    "        \n",
    "        if modification > 2:\n",
    "            important_words_nr1.append(word)\n",
    "        elif modification == 2:\n",
    "            important_words_nr2.append(word)\n",
    "        else: \n",
    "            important_words_nr3.append(word)\n",
    "\n",
    "\n",
    "            \n",
    "            \n",
    "    important_words_1.append(important_words_nr1)\n",
    "    important_words_2.append(important_words_nr2)\n",
    "    important_words_3.append(important_words_nr3)\n",
    "\n"
   ]
  },
  {
   "cell_type": "code",
   "execution_count": 69,
   "metadata": {},
   "outputs": [
    {
     "name": "stdout",
     "output_type": "stream",
     "text": [
      "[[], []]\n"
     ]
    }
   ],
   "source": [
    "print(important_words_1)"
   ]
  },
  {
   "cell_type": "code",
   "execution_count": 70,
   "metadata": {},
   "outputs": [
    {
     "name": "stdout",
     "output_type": "stream",
     "text": [
      "[[], []]\n"
     ]
    }
   ],
   "source": [
    "print(important_words_2)"
   ]
  },
  {
   "cell_type": "code",
   "execution_count": 71,
   "metadata": {},
   "outputs": [
    {
     "name": "stdout",
     "output_type": "stream",
     "text": [
      "[['This', 'computer', 'is', 'absolutely', 'AMAZING!!!'], ['10', 'plus', 'hours', 'of', 'battery...']]\n"
     ]
    }
   ],
   "source": [
    "print(important_words_3)"
   ]
  },
  {
   "cell_type": "code",
   "execution_count": null,
   "metadata": {},
   "outputs": [],
   "source": []
  },
  {
   "cell_type": "code",
   "execution_count": null,
   "metadata": {},
   "outputs": [],
   "source": []
  }
 ],
 "metadata": {
  "kernelspec": {
   "display_name": "Python 3",
   "language": "python",
   "name": "python3"
  },
  "language_info": {
   "codemirror_mode": {
    "name": "ipython",
    "version": 3
   },
   "file_extension": ".py",
   "mimetype": "text/x-python",
   "name": "python",
   "nbconvert_exporter": "python",
   "pygments_lexer": "ipython3",
   "version": "3.6.9"
  }
 },
 "nbformat": 4,
 "nbformat_minor": 4
}
