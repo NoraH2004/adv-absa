{
 "cells": [
  {
   "cell_type": "markdown",
   "metadata": {},
   "source": [
    "# Script for crafting Adversarial Examples"
   ]
  },
  {
   "cell_type": "code",
   "execution_count": 1,
   "metadata": {},
   "outputs": [],
   "source": [
    "import os\n",
    "\n",
    "import utils.text_processing as tp"
   ]
  },
  {
   "cell_type": "code",
   "execution_count": 2,
   "metadata": {},
   "outputs": [],
   "source": [
    "# get data from important word detector\n",
    "%store -r important_words\n",
    "%store -r sentence_packages"
   ]
  },
  {
   "cell_type": "markdown",
   "metadata": {},
   "source": [
    "## Methed 2: Mispeeling"
   ]
  },
  {
   "cell_type": "markdown",
   "metadata": {},
   "source": [
    "#### 1. Create modified Dataset"
   ]
  },
  {
   "cell_type": "code",
   "execution_count": 3,
   "metadata": {},
   "outputs": [],
   "source": [
    "original_sentences = []\n",
    "for sentence in sentence_packages:\n",
    "    original_sentences.append(sentence['original_sentence'])"
   ]
  },
  {
   "cell_type": "markdown",
   "metadata": {},
   "source": [
    "##### über die gehen\n",
    "##### word = bleibt gleich\n",
    "##### typos = Liste alle wörter von index +1 bis zum nächsten Wort, das mit 'Dollar' anfaengt Dieses nicht.\n",
    "\n",
    "##### dann im nächsten Schritt - für die Länge der Liste Typos über den Satz itereiren und das important word mit dem typo an der index stelle austauschen.\n",
    "\n",
    "\n",
    "\n"
   ]
  },
  {
   "cell_type": "code",
   "execution_count": 4,
   "metadata": {},
   "outputs": [],
   "source": [
    "with open(os.path.join('data','birkbeck_corpera_typo.txt'), 'r') as f:\n",
    "    typods = f.readlines()\n",
    "    \n",
    "typodict = {}\n",
    "for index, item in enumerate(typods):    \n",
    "    \n",
    "    if typods[index][0] == '$':\n",
    "        word = typods[index].rstrip().strip('$')\n",
    "        i = 1\n",
    "        typos = []\n",
    "        while index+i < len(typods) and typods[index + i][0] is not '$':            \n",
    "            typos.append(typods[index+i].rstrip())\n",
    "            i += 1\n",
    "        typodict.update({word : typos})           "
   ]
  },
  {
   "cell_type": "code",
   "execution_count": 5,
   "metadata": {},
   "outputs": [],
   "source": [
    "modified_words = []\n",
    "for word in important_words:\n",
    "    modified_words.append(tp.to_typo(typodict, word))"
   ]
  },
  {
   "cell_type": "code",
   "execution_count": 6,
   "metadata": {},
   "outputs": [],
   "source": [
    "modified_sentences = tp.generate_modified_sentences(original_sentences, important_words, modified_words)"
   ]
  },
  {
   "cell_type": "code",
   "execution_count": 7,
   "metadata": {},
   "outputs": [
    {
     "data": {
      "text/plain": [
       "435"
      ]
     },
     "execution_count": 7,
     "metadata": {},
     "output_type": "execute_result"
    }
   ],
   "source": [
    "len(modified_sentences)"
   ]
  },
  {
   "cell_type": "markdown",
   "metadata": {},
   "source": [
    "#### 2. Import BERT Model"
   ]
  },
  {
   "cell_type": "code",
   "execution_count": 8,
   "metadata": {},
   "outputs": [],
   "source": [
    "import torch\n",
    "import random\n",
    "import numpy as np\n",
    "import pandas as pd\n",
    "\n",
    "from transformers import AutoTokenizer, AutoModelForSequenceClassification\n",
    "\n",
    "tokenizer = AutoTokenizer.from_pretrained(\"nlptown/bert-base-multilingual-uncased-sentiment\")\n",
    "model = AutoModelForSequenceClassification.from_pretrained(\"nlptown/bert-base-multilingual-uncased-sentiment\")\n",
    "model.eval();"
   ]
  },
  {
   "cell_type": "markdown",
   "metadata": {},
   "source": [
    "#### 3. Prediction"
   ]
  },
  {
   "cell_type": "code",
   "execution_count": 9,
   "metadata": {},
   "outputs": [],
   "source": [
    "original_predictions = []\n",
    "\n",
    "for sentence in original_sentences:\n",
    "    original_predictions.append(tp.predict_sentiment(model, tokenizer, sentence))"
   ]
  },
  {
   "cell_type": "code",
   "execution_count": 10,
   "metadata": {},
   "outputs": [],
   "source": [
    "modified_predictions = []\n",
    "\n",
    "for item in modified_sentences:\n",
    "    for sentence in item:\n",
    "        modified_predictions.append(tp.predict_sentiment(model, tokenizer, sentence))"
   ]
  },
  {
   "cell_type": "code",
   "execution_count": 11,
   "metadata": {},
   "outputs": [],
   "source": [
    "modified_predictions = []\n",
    "\n",
    "for item in modified_sentences:           \n",
    "    if isinstance(item, list): \n",
    "        modified_prediction_list = []\n",
    "        for sentence in item:\n",
    "            modified_prediction_list.append(tp.predict_sentiment(model, tokenizer, sentence))\n",
    "        modified_predictions.append(modified_prediction_list)               \n",
    "        continue        \n",
    "    modified_predictions.append(tp.predict_sentiment(model, tokenizer, sentence))"
   ]
  },
  {
   "cell_type": "markdown",
   "metadata": {},
   "source": [
    "#### 4. Creation of Dataset"
   ]
  },
  {
   "cell_type": "code",
   "execution_count": 12,
   "metadata": {},
   "outputs": [],
   "source": [
    "ds = pd.DataFrame(list(zip(original_sentences, original_predictions, modified_sentences, modified_predictions)),\n",
    "                 columns = ['original_sentence', 'original_prediction', 'modified_sentence', 'modified_prediction'])"
   ]
  },
  {
   "cell_type": "code",
   "execution_count": 13,
   "metadata": {},
   "outputs": [
    {
     "name": "stdout",
     "output_type": "stream",
     "text": [
      "<class 'pandas.core.frame.DataFrame'>\n",
      "RangeIndex: 435 entries, 0 to 434\n",
      "Data columns (total 4 columns):\n",
      " #   Column               Non-Null Count  Dtype \n",
      "---  ------               --------------  ----- \n",
      " 0   original_sentence    435 non-null    object\n",
      " 1   original_prediction  435 non-null    int64 \n",
      " 2   modified_sentence    435 non-null    object\n",
      " 3   modified_prediction  435 non-null    object\n",
      "dtypes: int64(1), object(3)\n",
      "memory usage: 13.7+ KB\n"
     ]
    }
   ],
   "source": [
    "ds.info()"
   ]
  },
  {
   "cell_type": "markdown",
   "metadata": {},
   "source": [
    "#### 5. Creation of adversarial Dataset"
   ]
  },
  {
   "cell_type": "code",
   "execution_count": 14,
   "metadata": {},
   "outputs": [],
   "source": [
    "advds = tp.filter_unchanged_predictions(ds)"
   ]
  },
  {
   "cell_type": "code",
   "execution_count": 15,
   "metadata": {},
   "outputs": [
    {
     "data": {
      "text/html": [
       "<div>\n",
       "<style scoped>\n",
       "    .dataframe tbody tr th:only-of-type {\n",
       "        vertical-align: middle;\n",
       "    }\n",
       "\n",
       "    .dataframe tbody tr th {\n",
       "        vertical-align: top;\n",
       "    }\n",
       "\n",
       "    .dataframe thead th {\n",
       "        text-align: right;\n",
       "    }\n",
       "</style>\n",
       "<table border=\"1\" class=\"dataframe\">\n",
       "  <thead>\n",
       "    <tr style=\"text-align: right;\">\n",
       "      <th></th>\n",
       "      <th>original_sentence</th>\n",
       "      <th>original_prediction</th>\n",
       "      <th>modified_sentence</th>\n",
       "      <th>modified_prediction</th>\n",
       "    </tr>\n",
       "  </thead>\n",
       "  <tbody>\n",
       "    <tr>\n",
       "      <th>2</th>\n",
       "      <td>It is in a really good location for riding or ...</td>\n",
       "      <td>3</td>\n",
       "      <td>[It is in a really good location for riding or...</td>\n",
       "      <td>[4, 4, 4]</td>\n",
       "    </tr>\n",
       "    <tr>\n",
       "      <th>3</th>\n",
       "      <td>I cannot recommend this place enough!.</td>\n",
       "      <td>0</td>\n",
       "      <td>[I cannto recommend this place enough!., I can...</td>\n",
       "      <td>[4, 4, 4]</td>\n",
       "    </tr>\n",
       "    <tr>\n",
       "      <th>4</th>\n",
       "      <td>3 friends and I visited 't Materke in April 20...</td>\n",
       "      <td>4</td>\n",
       "      <td>[3 friends and I visited 't Materke i April 20...</td>\n",
       "      <td>[0, 0, 0, 0]</td>\n",
       "    </tr>\n",
       "    <tr>\n",
       "      <th>5</th>\n",
       "      <td>2 of us had stayed before so knew to expect a ...</td>\n",
       "      <td>2</td>\n",
       "      <td>[2 of us had stayed before so knew to espect a...</td>\n",
       "      <td>[4, 3, 4]</td>\n",
       "    </tr>\n",
       "    <tr>\n",
       "      <th>8</th>\n",
       "      <td>Edith and Mario are lovely and couldn't have b...</td>\n",
       "      <td>3</td>\n",
       "      <td>[Edith and Mario are lovely and coundnt have b...</td>\n",
       "      <td>[4, 4]</td>\n",
       "    </tr>\n",
       "  </tbody>\n",
       "</table>\n",
       "</div>"
      ],
      "text/plain": [
       "                                   original_sentence  original_prediction  \\\n",
       "2  It is in a really good location for riding or ...                    3   \n",
       "3             I cannot recommend this place enough!.                    0   \n",
       "4  3 friends and I visited 't Materke in April 20...                    4   \n",
       "5  2 of us had stayed before so knew to expect a ...                    2   \n",
       "8  Edith and Mario are lovely and couldn't have b...                    3   \n",
       "\n",
       "                                   modified_sentence modified_prediction  \n",
       "2  [It is in a really good location for riding or...           [4, 4, 4]  \n",
       "3  [I cannto recommend this place enough!., I can...           [4, 4, 4]  \n",
       "4  [3 friends and I visited 't Materke i April 20...        [0, 0, 0, 0]  \n",
       "5  [2 of us had stayed before so knew to espect a...           [4, 3, 4]  \n",
       "8  [Edith and Mario are lovely and coundnt have b...              [4, 4]  "
      ]
     },
     "execution_count": 15,
     "metadata": {},
     "output_type": "execute_result"
    }
   ],
   "source": [
    "advds.head()"
   ]
  },
  {
   "cell_type": "code",
   "execution_count": 16,
   "metadata": {},
   "outputs": [
    {
     "name": "stdout",
     "output_type": "stream",
     "text": [
      "<class 'pandas.core.frame.DataFrame'>\n",
      "Int64Index: 330 entries, 2 to 434\n",
      "Data columns (total 4 columns):\n",
      " #   Column               Non-Null Count  Dtype \n",
      "---  ------               --------------  ----- \n",
      " 0   original_sentence    330 non-null    object\n",
      " 1   original_prediction  330 non-null    int64 \n",
      " 2   modified_sentence    330 non-null    object\n",
      " 3   modified_prediction  330 non-null    object\n",
      "dtypes: int64(1), object(3)\n",
      "memory usage: 12.9+ KB\n"
     ]
    }
   ],
   "source": [
    "advds.info()"
   ]
  },
  {
   "cell_type": "code",
   "execution_count": 17,
   "metadata": {},
   "outputs": [
    {
     "data": {
      "text/plain": [
       "330"
      ]
     },
     "execution_count": 17,
     "metadata": {},
     "output_type": "execute_result"
    }
   ],
   "source": [
    "len(advds)"
   ]
  },
  {
   "cell_type": "code",
   "execution_count": 18,
   "metadata": {},
   "outputs": [],
   "source": [
    " advds.to_json(r'data/adversarial_dataset_multitypos.json', orient='records')"
   ]
  },
  {
   "cell_type": "markdown",
   "metadata": {},
   "source": [
    "#### 6. Resluts"
   ]
  },
  {
   "cell_type": "code",
   "execution_count": 19,
   "metadata": {},
   "outputs": [],
   "source": [
    "pmethod = 'typos'"
   ]
  },
  {
   "cell_type": "code",
   "execution_count": 20,
   "metadata": {},
   "outputs": [
    {
     "data": {
      "text/html": [
       "<div>\n",
       "<style scoped>\n",
       "    .dataframe tbody tr th:only-of-type {\n",
       "        vertical-align: middle;\n",
       "    }\n",
       "\n",
       "    .dataframe tbody tr th {\n",
       "        vertical-align: top;\n",
       "    }\n",
       "\n",
       "    .dataframe thead th {\n",
       "        text-align: right;\n",
       "    }\n",
       "</style>\n",
       "<table border=\"1\" class=\"dataframe\">\n",
       "  <thead>\n",
       "    <tr style=\"text-align: right;\">\n",
       "      <th></th>\n",
       "      <th>0</th>\n",
       "    </tr>\n",
       "  </thead>\n",
       "  <tbody>\n",
       "    <tr>\n",
       "      <th>Perturbation Method</th>\n",
       "      <td>typos</td>\n",
       "    </tr>\n",
       "    <tr>\n",
       "      <th>Tokenizer</th>\n",
       "      <td>nlptown/bert-base-multilingual-uncased-sentiment</td>\n",
       "    </tr>\n",
       "    <tr>\n",
       "      <th>Model</th>\n",
       "      <td>nlptown/bert-base-multilingual-uncased-sentiment</td>\n",
       "    </tr>\n",
       "    <tr>\n",
       "      <th>Dataset</th>\n",
       "      <td>TripAdvisor Hotel Reviews</td>\n",
       "    </tr>\n",
       "    <tr>\n",
       "      <th>Output lables</th>\n",
       "      <td>Range from 0 to 4 - 0 = NEG; 4 = POS</td>\n",
       "    </tr>\n",
       "    <tr>\n",
       "      <th>Items in original dataset</th>\n",
       "      <td>435</td>\n",
       "    </tr>\n",
       "    <tr>\n",
       "      <th>Items in adversarial dataset</th>\n",
       "      <td>330</td>\n",
       "    </tr>\n",
       "    <tr>\n",
       "      <th>Percentage</th>\n",
       "      <td>75.8621</td>\n",
       "    </tr>\n",
       "  </tbody>\n",
       "</table>\n",
       "</div>"
      ],
      "text/plain": [
       "                                                                             0\n",
       "Perturbation Method                                                      typos\n",
       "Tokenizer                     nlptown/bert-base-multilingual-uncased-sentiment\n",
       "Model                         nlptown/bert-base-multilingual-uncased-sentiment\n",
       "Dataset                                              TripAdvisor Hotel Reviews\n",
       "Output lables                             Range from 0 to 4 - 0 = NEG; 4 = POS\n",
       "Items in original dataset                                                  435\n",
       "Items in adversarial dataset                                               330\n",
       "Percentage                                                             75.8621"
      ]
     },
     "execution_count": 20,
     "metadata": {},
     "output_type": "execute_result"
    }
   ],
   "source": [
    "results_typo = tp.generate_results_df(pmethod, ds, advds)\n",
    "results_typo"
   ]
  },
  {
   "cell_type": "code",
   "execution_count": 21,
   "metadata": {},
   "outputs": [
    {
     "name": "stdout",
     "output_type": "stream",
     "text": [
      "Stored 'results_typo' (DataFrame)\n"
     ]
    }
   ],
   "source": [
    "%store results_typo"
   ]
  }
 ],
 "metadata": {
  "kernelspec": {
   "display_name": "Python 3",
   "language": "python",
   "name": "python3"
  },
  "language_info": {
   "codemirror_mode": {
    "name": "ipython",
    "version": 3
   },
   "file_extension": ".py",
   "mimetype": "text/x-python",
   "name": "python",
   "nbconvert_exporter": "python",
   "pygments_lexer": "ipython3",
   "version": "3.6.9"
  }
 },
 "nbformat": 4,
 "nbformat_minor": 4
}
