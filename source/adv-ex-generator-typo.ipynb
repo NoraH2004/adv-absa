{
 "cells": [
  {
   "cell_type": "markdown",
   "metadata": {},
   "source": [
    "# Script for crafting Adversarial Examples"
   ]
  },
  {
   "cell_type": "code",
   "execution_count": 1,
   "metadata": {},
   "outputs": [],
   "source": [
    "import os\n",
    "\n",
    "import utils.text_processing as tp"
   ]
  },
  {
   "cell_type": "code",
   "execution_count": 2,
   "metadata": {},
   "outputs": [],
   "source": [
    "# get data from important word detector\n",
    "%store -r important_words\n",
    "%store -r sentence_packages"
   ]
  },
  {
   "cell_type": "markdown",
   "metadata": {},
   "source": [
    "## Methed 2: Mispeeling"
   ]
  },
  {
   "cell_type": "markdown",
   "metadata": {},
   "source": [
    "#### 1. Create modified Dataset"
   ]
  },
  {
   "cell_type": "code",
   "execution_count": 3,
   "metadata": {},
   "outputs": [],
   "source": [
    "original_sentences = []\n",
    "for sentence in sentence_packages:\n",
    "    original_sentences.append(sentence['original_sentence'])"
   ]
  },
  {
   "cell_type": "markdown",
   "metadata": {},
   "source": [
    "##### über die gehen\n",
    "##### word = bleibt gleich\n",
    "##### typos = Liste alle wörter von index +1 bis zum nächsten Wort, das mit 'Dollar' anfaengt Dieses nicht.\n",
    "\n",
    "##### dann im nächsten Schritt - für die Länge der Liste Typos über den Satz itereiren und das important word mit dem typo an der index stelle austauschen.\n",
    "\n",
    "\n",
    "\n"
   ]
  },
  {
   "cell_type": "code",
   "execution_count": 4,
   "metadata": {},
   "outputs": [],
   "source": [
    "with open(os.path.join('data','birkbeck_corpera_typo.txt'), 'r') as f:\n",
    "    typods = f.readlines()\n",
    "    \n",
    "typodict = {}\n",
    "for index, item in enumerate(typods):\n",
    "    if typods[index][0] == '$':\n",
    "        word = typods[index].rstrip().strip('$')\n",
    "        typo = typods[index+1].rstrip()\n",
    "        typodict.update({word : typo})"
   ]
  },
  {
   "cell_type": "code",
   "execution_count": 5,
   "metadata": {},
   "outputs": [],
   "source": [
    "with open(os.path.join('data','birkbeck_corpera_typo.txt'), 'r') as f:\n",
    "    typods = f.readlines()\n",
    "    \n",
    "typodict = {}\n",
    "for index, item in enumerate(typods):    \n",
    "    \n",
    "    if typods[index][0] == '$':\n",
    "        word = typods[index].rstrip().strip('$')\n",
    "        i = 1\n",
    "        typos = []\n",
    "        while index+i < len(typods) and typods[index + i][0] is not '$':            \n",
    "            typos.append(typods[index+i].rstrip())\n",
    "            i += 1\n",
    "        typodict.update({word : typos})           "
   ]
  },
  {
   "cell_type": "code",
   "execution_count": 6,
   "metadata": {},
   "outputs": [],
   "source": [
    "modified_words = []\n",
    "for word in important_words:\n",
    "    modified_words.append(tp.to_typo(typodict, word))"
   ]
  },
  {
   "cell_type": "code",
   "execution_count": 13,
   "metadata": {},
   "outputs": [],
   "source": [
    "modified_sentences = tp.generate_modified_sentences(original_sentences, important_words, modified_words)"
   ]
  },
  {
   "cell_type": "code",
   "execution_count": 14,
   "metadata": {},
   "outputs": [
    {
     "data": {
      "text/plain": [
       "435"
      ]
     },
     "execution_count": 14,
     "metadata": {},
     "output_type": "execute_result"
    }
   ],
   "source": [
    "len(modified_sentences)"
   ]
  },
  {
   "cell_type": "markdown",
   "metadata": {},
   "source": [
    "#### 2. Import BERT Model"
   ]
  },
  {
   "cell_type": "code",
   "execution_count": 8,
   "metadata": {},
   "outputs": [],
   "source": [
    "import torch\n",
    "import random\n",
    "import numpy as np\n",
    "import pandas as pd\n",
    "\n",
    "from transformers import AutoTokenizer, AutoModelForSequenceClassification\n",
    "\n",
    "tokenizer = AutoTokenizer.from_pretrained(\"nlptown/bert-base-multilingual-uncased-sentiment\")\n",
    "model = AutoModelForSequenceClassification.from_pretrained(\"nlptown/bert-base-multilingual-uncased-sentiment\")\n",
    "model.eval();"
   ]
  },
  {
   "cell_type": "markdown",
   "metadata": {},
   "source": [
    "#### 3. Prediction"
   ]
  },
  {
   "cell_type": "code",
   "execution_count": 9,
   "metadata": {},
   "outputs": [],
   "source": [
    "original_predictions = []\n",
    "for sentence in original_sentences:\n",
    "    original_predictions.append(tp.predict_sentiment(model, tokenizer, sentence))"
   ]
  },
  {
   "cell_type": "code",
   "execution_count": 16,
   "metadata": {},
   "outputs": [],
   "source": [
    "modified_predictions = []\n",
    "\n",
    "for item in modified_sentences:\n",
    "    for sentence in item:\n",
    "        modified_predictions.append(tp.predict_sentiment(model, tokenizer, sentence))"
   ]
  },
  {
   "cell_type": "code",
   "execution_count": 20,
   "metadata": {},
   "outputs": [],
   "source": [
    "modified_predictions = []\n",
    "\n",
    "for item in modified_sentences:           \n",
    "    if isinstance(item, list): \n",
    "        modified_prediction_list = []\n",
    "        for sentence in item:\n",
    "            modified_prediction_list.append(tp.predict_sentiment(model, tokenizer, sentence))\n",
    "        modified_predictions.append(modified_prediction_list)               \n",
    "        continue        \n",
    "    modified_predictions.append(tp.predict_sentiment(model, tokenizer, sentence))"
   ]
  },
  {
   "cell_type": "code",
   "execution_count": 21,
   "metadata": {},
   "outputs": [
    {
     "data": {
      "text/plain": [
       "4"
      ]
     },
     "execution_count": 21,
     "metadata": {},
     "output_type": "execute_result"
    }
   ],
   "source": [
    "len(modified_prediction_list)"
   ]
  },
  {
   "cell_type": "code",
   "execution_count": 22,
   "metadata": {},
   "outputs": [
    {
     "data": {
      "text/plain": [
       "435"
      ]
     },
     "execution_count": 22,
     "metadata": {},
     "output_type": "execute_result"
    }
   ],
   "source": [
    "len(modified_predictions)"
   ]
  },
  {
   "cell_type": "markdown",
   "metadata": {},
   "source": [
    "#### 4. Creation of Dataset"
   ]
  },
  {
   "cell_type": "code",
   "execution_count": 218,
   "metadata": {},
   "outputs": [],
   "source": [
    "ds = pd.DataFrame(list(zip(original_sentences, original_predictions, modified_sentences, modified_predictions)),\n",
    "                 columns = ['original_sentence', 'original_prediction', 'modified_sentence', 'modified_prediction'])"
   ]
  },
  {
   "cell_type": "markdown",
   "metadata": {
    "jupyter": {
     "source_hidden": true
    }
   },
   "source": [
    "changed_items = []\n",
    "\n",
    "\n",
    "mod_pred : [4,\n",
    "            4,\n",
    "           [0,4,0],\n",
    "           4]\n",
    "\n",
    "für jedes e, Item in enumerate(mod_pred):\n",
    "    wenn item keine Liste is:\n",
    "        an changed_items hängen, wenn item != original_score an der stelle e     \n",
    "        \n",
    "        sonst (wenn es a Liste is)\n",
    "            eine neue Liste changed_item_list machen\n",
    "            und für jeden i, score in der Liste enumerate(item):\n",
    "                an changed_item_list hängen, wenn score != original_score an der stelle[i]\n",
    "                              \n",
    "           und changed item list an die  Liste changed item hängen\n",
    "\n",
    "dann hab ich eine liste wie mod_pred\n",
    "    wo nur die drin sind, die sich verändert haben\n"
   ]
  },
  {
   "cell_type": "code",
   "execution_count": 96,
   "metadata": {
    "jupyter": {
     "source_hidden": true
    }
   },
   "outputs": [
    {
     "name": "stdout",
     "output_type": "stream",
     "text": [
      "[4, 4, 3, 0, 4, 2, 4, 4, 3, 3, 4, 4, 4, 4, 3, 4, 4, 3, 2, 1]\n"
     ]
    }
   ],
   "source": [
    "print(original_predictions[:20])"
   ]
  },
  {
   "cell_type": "code",
   "execution_count": 97,
   "metadata": {
    "jupyter": {
     "source_hidden": true
    }
   },
   "outputs": [
    {
     "name": "stdout",
     "output_type": "stream",
     "text": [
      "[4, 4, [4, 4, 4], [0, 4, 4, 4], [0, 0, 4, 0, 0, 4], [4, 3, 4], 4, 4, [3, 3, 4, 4], [3, 3, 3, 3, 3, 3, 3, 3, 3, 3, 4, 3, 3], 3, 3, [4], 4, [4, 3, 3, 3, 4, 4, 4, 4, 3, 4, 4, 3, 4], [4, 4, 4], [3, 4, 3, 4, 3, 3, 3, 3, 3, 4, 3, 3, 3], 3, [1, 1, 1, 1, 1, 1, 1, 1, 1, 1, 1, 1, 1, 1, 1, 1, 1, 1, 1, 1, 1, 1], 1]\n"
     ]
    }
   ],
   "source": [
    "print(modified_predictions[:20])"
   ]
  },
  {
   "cell_type": "code",
   "execution_count": null,
   "metadata": {
    "jupyter": {
     "source_hidden": true
    }
   },
   "outputs": [],
   "source": [
    "3 --> [4, 4, 4] --> 4er\n",
    "0 --> [0, 4, 4, 4] --> 4 er\n",
    "4 --> [0, 0, 4, 0, 0, 4] --> 0er\n",
    "2 --> [4, 3, 4] --> gleich\n",
    "3 --> [3, 3, 4, 4] --> 2 4er\n",
    "3 --> [3, 3, 3, 3, 3, 3, 3, 3, 3, 3, 4, 3, 3] --> 4\n",
    "4 --> 3 --> 3\n",
    "4 --> 3 --> 3\n",
    "4 --> [4]\n",
    "4 --> 4"
   ]
  },
  {
   "cell_type": "code",
   "execution_count": 104,
   "metadata": {
    "collapsed": true,
    "jupyter": {
     "outputs_hidden": true,
     "source_hidden": true
    }
   },
   "outputs": [
    {
     "name": "stdout",
     "output_type": "stream",
     "text": [
      "okok\n",
      "okok\n",
      "okok\n",
      "okok\n",
      "[[4, 4, 4], [4, 4, 4], [0, 0, 0, 0], [4, 3, 4], [4, 4], [4]]\n"
     ]
    }
   ],
   "source": [
    "changed_predictions = []\n",
    "for e, item in enumerate(modified_predictions[:10]):\n",
    "    if isinstance(item,list):\n",
    "        changed_predictions_list = []\n",
    "        for number in item:\n",
    "            # print(number)\n",
    "            if number != original_predictions[e]:\n",
    "                changed_predictions_list.append(number)\n",
    "            else:\n",
    "                continue\n",
    "        changed_predictions.append(changed_predictions_list)\n",
    "    else:\n",
    "        print('okok')\n",
    "        if item != original_predictions[e]:\n",
    "            changed_predictions.append(item)\n",
    "            print('okok2')\n",
    "\n",
    "print(changed_predictions)"
   ]
  },
  {
   "cell_type": "code",
   "execution_count": 53,
   "metadata": {
    "collapsed": true,
    "jupyter": {
     "outputs_hidden": true,
     "source_hidden": true
    }
   },
   "outputs": [
    {
     "name": "stdout",
     "output_type": "stream",
     "text": [
      "[4]\n",
      "[4, [4, 4, 4], 4]\n",
      "[4, [4, 4, 4], 4, [4, 4, 4], 0]\n"
     ]
    },
    {
     "ename": "IndexError",
     "evalue": "list index out of range",
     "output_type": "error",
     "traceback": [
      "\u001b[0;31m---------------------------------------------------------------------------\u001b[0m",
      "\u001b[0;31mIndexError\u001b[0m                                Traceback (most recent call last)",
      "\u001b[0;32m<ipython-input-53-efb87d2df53a>\u001b[0m in \u001b[0;36m<module>\u001b[0;34m\u001b[0m\n\u001b[1;32m      3\u001b[0m     \u001b[0;32mif\u001b[0m \u001b[0misinstance\u001b[0m\u001b[0;34m(\u001b[0m\u001b[0mitem\u001b[0m\u001b[0;34m,\u001b[0m \u001b[0mlist\u001b[0m\u001b[0;34m)\u001b[0m\u001b[0;34m:\u001b[0m\u001b[0;34m\u001b[0m\u001b[0;34m\u001b[0m\u001b[0m\n\u001b[1;32m      4\u001b[0m         \u001b[0;32mif\u001b[0m \u001b[0mitem\u001b[0m \u001b[0;34m!=\u001b[0m \u001b[0moriginal_predictions\u001b[0m\u001b[0;34m[\u001b[0m\u001b[0me\u001b[0m\u001b[0;34m]\u001b[0m\u001b[0;34m:\u001b[0m\u001b[0;34m\u001b[0m\u001b[0;34m\u001b[0m\u001b[0m\n\u001b[0;32m----> 5\u001b[0;31m             \u001b[0mchanged_modified_predictions\u001b[0m\u001b[0;34m.\u001b[0m\u001b[0mappend\u001b[0m\u001b[0;34m(\u001b[0m\u001b[0mitem\u001b[0m\u001b[0;34m[\u001b[0m\u001b[0me\u001b[0m\u001b[0;34m]\u001b[0m\u001b[0;34m)\u001b[0m\u001b[0;34m\u001b[0m\u001b[0;34m\u001b[0m\u001b[0m\n\u001b[0m\u001b[1;32m      6\u001b[0m \u001b[0;34m\u001b[0m\u001b[0m\n\u001b[1;32m      7\u001b[0m         \u001b[0mchanged_modified_predictions_list\u001b[0m \u001b[0;34m=\u001b[0m \u001b[0;34m[\u001b[0m\u001b[0;34m]\u001b[0m\u001b[0;34m\u001b[0m\u001b[0;34m\u001b[0m\u001b[0m\n",
      "\u001b[0;31mIndexError\u001b[0m: list index out of range"
     ]
    }
   ],
   "source": [
    "changed_modified_predictions = []\n",
    "for e, item in enumerate(modified_predictions):\n",
    "    if isinstance(item, list):\n",
    "        if item != original_predictions[e]:\n",
    "            changed_modified_predictions.append(item[e])\n",
    "        \n",
    "        changed_modified_predictions_list = []\n",
    "        print(changed_modified_predictions)\n",
    "        for score in item:\n",
    "             if score != original_predictions[e]:\n",
    "                    changed_modified_predictions_list.append(score)\n",
    "        changed_modified_predictions.append(changed_modified_predictions_list)    "
   ]
  },
  {
   "cell_type": "code",
   "execution_count": 200,
   "metadata": {},
   "outputs": [
    {
     "name": "stdout",
     "output_type": "stream",
     "text": [
      "<class 'pandas.core.frame.DataFrame'>\n",
      "RangeIndex: 435 entries, 0 to 434\n",
      "Data columns (total 4 columns):\n",
      " #   Column               Non-Null Count  Dtype \n",
      "---  ------               --------------  ----- \n",
      " 0   original_sentence    435 non-null    object\n",
      " 1   original_prediction  435 non-null    int64 \n",
      " 2   modified_sentence    435 non-null    object\n",
      " 3   modified_prediction  435 non-null    object\n",
      "dtypes: int64(1), object(3)\n",
      "memory usage: 13.7+ KB\n"
     ]
    }
   ],
   "source": [
    "ds.info()"
   ]
  },
  {
   "cell_type": "markdown",
   "metadata": {},
   "source": [
    "#### 5. Creation of adversarial Dataset"
   ]
  },
  {
   "cell_type": "code",
   "execution_count": 220,
   "metadata": {},
   "outputs": [],
   "source": [
    "# gives a list with all modified sentences where prediction is different than original prediction\n",
    "\n",
    "for index, item in ds.iterrows():\n",
    "    if isinstance(item.modified_sentence, list):\n",
    "        newlist = filter(lambda x : item.original_prediction != item.modified_prediction[x[0]], enumerate(item.modified_sentence))\n",
    "        newlist = list(newlist)\n",
    "        if len(newlist) != 0:\n",
    "            _, newlist = zip(*newlist)\n",
    "            newlist = list(newlist)\n",
    "            # print(newlist)\n",
    "        else:\n",
    "            newlist = None\n",
    "        ds.at[index,'modified_sentence'] = newlist\n",
    "        # umschreiben because neewbe lel\n",
    "        ds.at[index,'modified_prediction'] = [x for x in item.modified_prediction if item.original_prediction != x]\n",
    "        # print(item)\n",
    "            \n",
    "ds = ds[ds.modified_sentence.notnull()]\n",
    "advds = ds[ds.original_prediction != ds.modified_prediction]"
   ]
  },
  {
   "cell_type": "code",
   "execution_count": 221,
   "metadata": {},
   "outputs": [
    {
     "data": {
      "text/html": [
       "<div>\n",
       "<style scoped>\n",
       "    .dataframe tbody tr th:only-of-type {\n",
       "        vertical-align: middle;\n",
       "    }\n",
       "\n",
       "    .dataframe tbody tr th {\n",
       "        vertical-align: top;\n",
       "    }\n",
       "\n",
       "    .dataframe thead th {\n",
       "        text-align: right;\n",
       "    }\n",
       "</style>\n",
       "<table border=\"1\" class=\"dataframe\">\n",
       "  <thead>\n",
       "    <tr style=\"text-align: right;\">\n",
       "      <th></th>\n",
       "      <th>original_sentence</th>\n",
       "      <th>original_prediction</th>\n",
       "      <th>modified_sentence</th>\n",
       "      <th>modified_prediction</th>\n",
       "    </tr>\n",
       "  </thead>\n",
       "  <tbody>\n",
       "    <tr>\n",
       "      <th>2</th>\n",
       "      <td>It is in a really good location for riding or ...</td>\n",
       "      <td>3</td>\n",
       "      <td>[It is in a really good location for riding or...</td>\n",
       "      <td>[4, 4, 4]</td>\n",
       "    </tr>\n",
       "    <tr>\n",
       "      <th>3</th>\n",
       "      <td>I cannot recommend this place enough!.</td>\n",
       "      <td>0</td>\n",
       "      <td>[I cannto recommend this place enough!., I can...</td>\n",
       "      <td>[4, 4, 4]</td>\n",
       "    </tr>\n",
       "    <tr>\n",
       "      <th>4</th>\n",
       "      <td>3 friends and I visited 't Materke in April 20...</td>\n",
       "      <td>4</td>\n",
       "      <td>[3 friends and I visited 't Materke i April 20...</td>\n",
       "      <td>[0, 0, 0, 0]</td>\n",
       "    </tr>\n",
       "    <tr>\n",
       "      <th>5</th>\n",
       "      <td>2 of us had stayed before so knew to expect a ...</td>\n",
       "      <td>2</td>\n",
       "      <td>[2 of us had stayed before so knew to espect a...</td>\n",
       "      <td>[4, 3, 4]</td>\n",
       "    </tr>\n",
       "    <tr>\n",
       "      <th>8</th>\n",
       "      <td>Edith and Mario are lovely and couldn't have b...</td>\n",
       "      <td>3</td>\n",
       "      <td>[Edith and Mario are lovely and coundnt have b...</td>\n",
       "      <td>[4, 4]</td>\n",
       "    </tr>\n",
       "    <tr>\n",
       "      <th>9</th>\n",
       "      <td>The rooms are comfortable, clean and have plen...</td>\n",
       "      <td>3</td>\n",
       "      <td>[The rooms are comfortable, clean and hove ple...</td>\n",
       "      <td>[4]</td>\n",
       "    </tr>\n",
       "    <tr>\n",
       "      <th>10</th>\n",
       "      <td>Breakfast is incredible and a highlight of any...</td>\n",
       "      <td>4</td>\n",
       "      <td>Breakfast is incredible and a highlight of any...</td>\n",
       "      <td>3</td>\n",
       "    </tr>\n",
       "    <tr>\n",
       "      <th>11</th>\n",
       "      <td>Ideal to fuel a day's bike riding.</td>\n",
       "      <td>4</td>\n",
       "      <td>Ideal to fuel a day's bike riding.</td>\n",
       "      <td>3</td>\n",
       "    </tr>\n",
       "    <tr>\n",
       "      <th>14</th>\n",
       "      <td>- Very nice place to stay, one of the best in ...</td>\n",
       "      <td>3</td>\n",
       "      <td>[- Very nice place to stay, one of the best in...</td>\n",
       "      <td>[4, 4, 4, 4, 4, 4, 4, 4]</td>\n",
       "    </tr>\n",
       "    <tr>\n",
       "      <th>16</th>\n",
       "      <td>New bathroom with a very good shower.</td>\n",
       "      <td>4</td>\n",
       "      <td>[New bathroom with a an good shower., New bath...</td>\n",
       "      <td>[3, 3, 3, 3, 3, 3, 3, 3, 3, 3]</td>\n",
       "    </tr>\n",
       "    <tr>\n",
       "      <th>18</th>\n",
       "      <td>I would suggest safe bars inside the bathroom ...</td>\n",
       "      <td>2</td>\n",
       "      <td>[I would suggest fase bars inside the bathroom...</td>\n",
       "      <td>[1, 1, 1, 1, 1, 1, 1, 1, 1, 1, 1, 1, 1, 1, 1, ...</td>\n",
       "    </tr>\n",
       "    <tr>\n",
       "      <th>21</th>\n",
       "      <td>We stayed there for a MTB racer as well as all...</td>\n",
       "      <td>0</td>\n",
       "      <td>We stayed there for a MTB racer as well as all...</td>\n",
       "      <td>1</td>\n",
       "    </tr>\n",
       "    <tr>\n",
       "      <th>22</th>\n",
       "      <td>And at the end, there is no flexible late chec...</td>\n",
       "      <td>0</td>\n",
       "      <td>[And at the end, there is no flexible late che...</td>\n",
       "      <td>[1, 1]</td>\n",
       "    </tr>\n",
       "    <tr>\n",
       "      <th>24</th>\n",
       "      <td>So you will have a hard time if you want to sl...</td>\n",
       "      <td>2</td>\n",
       "      <td>So you will have a hard time if you want to sl...</td>\n",
       "      <td>1</td>\n",
       "    </tr>\n",
       "    <tr>\n",
       "      <th>25</th>\n",
       "      <td>Breakfast is good with a nice view to the city.</td>\n",
       "      <td>3</td>\n",
       "      <td>Breakfast is good with a nice view to the city.</td>\n",
       "      <td>1</td>\n",
       "    </tr>\n",
       "    <tr>\n",
       "      <th>26</th>\n",
       "      <td>I went to this hotel because I could not find ...</td>\n",
       "      <td>2</td>\n",
       "      <td>[I went to this hotel because I could not find...</td>\n",
       "      <td>[4, 4, 1, 4]</td>\n",
       "    </tr>\n",
       "    <tr>\n",
       "      <th>27</th>\n",
       "      <td>Therefore I did not have great expectations an...</td>\n",
       "      <td>1</td>\n",
       "      <td>Therefore I did not have great expectations an...</td>\n",
       "      <td>4</td>\n",
       "    </tr>\n",
       "    <tr>\n",
       "      <th>28</th>\n",
       "      <td>To be fair, the positive points are: confortab...</td>\n",
       "      <td>3</td>\n",
       "      <td>[To be fair, the positive points are: conforta...</td>\n",
       "      <td>[2, 2, 2, 2]</td>\n",
       "    </tr>\n",
       "    <tr>\n",
       "      <th>29</th>\n",
       "      <td>the hotel is clean tidy and well presented and...</td>\n",
       "      <td>4</td>\n",
       "      <td>the hotel is clean tidy and well presented and...</td>\n",
       "      <td>2</td>\n",
       "    </tr>\n",
       "    <tr>\n",
       "      <th>31</th>\n",
       "      <td>Great breakfast included.</td>\n",
       "      <td>4</td>\n",
       "      <td>Great breakfast included.</td>\n",
       "      <td>2</td>\n",
       "    </tr>\n",
       "    <tr>\n",
       "      <th>32</th>\n",
       "      <td>Staff a bit surly.. Hotel Villa Benz,is a hote...</td>\n",
       "      <td>3</td>\n",
       "      <td>Staff a bit surly.. Hotel Villa Benz,is a hote...</td>\n",
       "      <td>2</td>\n",
       "    </tr>\n",
       "    <tr>\n",
       "      <th>33</th>\n",
       "      <td>Just outside but close to city center &amp; has an...</td>\n",
       "      <td>3</td>\n",
       "      <td>Just outside but close to city center &amp; has an...</td>\n",
       "      <td>2</td>\n",
       "    </tr>\n",
       "    <tr>\n",
       "      <th>34</th>\n",
       "      <td>Castle is nearby for strolling to clean up you...</td>\n",
       "      <td>3</td>\n",
       "      <td>Castle is nearby for strolling to clean up you...</td>\n",
       "      <td>2</td>\n",
       "    </tr>\n",
       "    <tr>\n",
       "      <th>35</th>\n",
       "      <td>Breakfast there is what gives you a kick-start...</td>\n",
       "      <td>4</td>\n",
       "      <td>Breakfast there is what gives you a kick-start...</td>\n",
       "      <td>2</td>\n",
       "    </tr>\n",
       "    <tr>\n",
       "      <th>36</th>\n",
       "      <td>Wonderful friendly staff.</td>\n",
       "      <td>4</td>\n",
       "      <td>Wonderful friendly staff.</td>\n",
       "      <td>2</td>\n",
       "    </tr>\n",
       "    <tr>\n",
       "      <th>38</th>\n",
       "      <td>Very clean, nice rooms, friendly service, grea...</td>\n",
       "      <td>2</td>\n",
       "      <td>[Very clean, nice rooms, friendly service, gre...</td>\n",
       "      <td>[4, 4, 4]</td>\n",
       "    </tr>\n",
       "    <tr>\n",
       "      <th>40</th>\n",
       "      <td>Entry fee included.</td>\n",
       "      <td>3</td>\n",
       "      <td>Entry fee included.</td>\n",
       "      <td>4</td>\n",
       "    </tr>\n",
       "    <tr>\n",
       "      <th>42</th>\n",
       "      <td>Across from the side of the Schwetzingen Schlo...</td>\n",
       "      <td>4</td>\n",
       "      <td>[Across from the side of the Schwetzingen Schl...</td>\n",
       "      <td>[3, 3, 3, 3, 3, 3, 2]</td>\n",
       "    </tr>\n",
       "    <tr>\n",
       "      <th>43</th>\n",
       "      <td>We parked behind the hotel, the entry was quit...</td>\n",
       "      <td>3</td>\n",
       "      <td>We parked behind the hotel, the entry was quit...</td>\n",
       "      <td>2</td>\n",
       "    </tr>\n",
       "    <tr>\n",
       "      <th>44</th>\n",
       "      <td>The house is a lovely restored small mansion, ...</td>\n",
       "      <td>4</td>\n",
       "      <td>The house is a lovely restored small mansion, ...</td>\n",
       "      <td>2</td>\n",
       "    </tr>\n",
       "    <tr>\n",
       "      <th>45</th>\n",
       "      <td>The rooms are very nicely decorated and well e...</td>\n",
       "      <td>4</td>\n",
       "      <td>The rooms are very nicely decorated and well e...</td>\n",
       "      <td>2</td>\n",
       "    </tr>\n",
       "    <tr>\n",
       "      <th>46</th>\n",
       "      <td>Breakfast is on the ground floor, served by th...</td>\n",
       "      <td>3</td>\n",
       "      <td>Breakfast is on the ground floor, served by th...</td>\n",
       "      <td>2</td>\n",
       "    </tr>\n",
       "    <tr>\n",
       "      <th>48</th>\n",
       "      <td>After breakfast the owner handed us tickets fo...</td>\n",
       "      <td>4</td>\n",
       "      <td>After breakfast the owner handed us tickets fo...</td>\n",
       "      <td>3</td>\n",
       "    </tr>\n",
       "    <tr>\n",
       "      <th>49</th>\n",
       "      <td>We enjoyed our stay very much and can recommen...</td>\n",
       "      <td>3</td>\n",
       "      <td>[We enjoyed our stay very much and can recomme...</td>\n",
       "      <td>[4, 4]</td>\n",
       "    </tr>\n",
       "    <tr>\n",
       "      <th>50</th>\n",
       "      <td>I wanted to find a nice hotel in Heidelberg wh...</td>\n",
       "      <td>2</td>\n",
       "      <td>[I pretented to find a nice hotel in Heidelber...</td>\n",
       "      <td>[1, 3, 3, 3, 3, 3, 3, 3, 3, 3, 1, 1, 3, 3]</td>\n",
       "    </tr>\n",
       "    <tr>\n",
       "      <th>52</th>\n",
       "      <td>Very friendly staff.</td>\n",
       "      <td>4</td>\n",
       "      <td>[Very frandely staff., Very freindly staff.]</td>\n",
       "      <td>[1, 3]</td>\n",
       "    </tr>\n",
       "    <tr>\n",
       "      <th>54</th>\n",
       "      <td>I would stay again !.</td>\n",
       "      <td>2</td>\n",
       "      <td>[I would stay a_gan !., I would stay a_gane !....</td>\n",
       "      <td>[1, 1, 1, 1, 1, 1, 1, 1, 1, 1, 1, 0, 4, 1, 1, 1]</td>\n",
       "    </tr>\n",
       "    <tr>\n",
       "      <th>55</th>\n",
       "      <td>I wanted to find a nice hotel in Heidelberg wh...</td>\n",
       "      <td>2</td>\n",
       "      <td>[I pretented to find a nice hotel in Heidelber...</td>\n",
       "      <td>[1, 3, 3, 3, 3, 3, 3, 3, 3, 3, 1, 1, 3, 3]</td>\n",
       "    </tr>\n",
       "    <tr>\n",
       "      <th>57</th>\n",
       "      <td>Very friendly staff.</td>\n",
       "      <td>4</td>\n",
       "      <td>[Very frandely staff., Very freindly staff.]</td>\n",
       "      <td>[1, 3]</td>\n",
       "    </tr>\n",
       "    <tr>\n",
       "      <th>59</th>\n",
       "      <td>I would stay again !.</td>\n",
       "      <td>2</td>\n",
       "      <td>[I would stay a_gan !., I would stay a_gane !....</td>\n",
       "      <td>[1, 1, 1, 1, 1, 1, 1, 1, 1, 1, 1, 0, 4, 1, 1, 1]</td>\n",
       "    </tr>\n",
       "  </tbody>\n",
       "</table>\n",
       "</div>"
      ],
      "text/plain": [
       "                                    original_sentence  original_prediction  \\\n",
       "2   It is in a really good location for riding or ...                    3   \n",
       "3              I cannot recommend this place enough!.                    0   \n",
       "4   3 friends and I visited 't Materke in April 20...                    4   \n",
       "5   2 of us had stayed before so knew to expect a ...                    2   \n",
       "8   Edith and Mario are lovely and couldn't have b...                    3   \n",
       "9   The rooms are comfortable, clean and have plen...                    3   \n",
       "10  Breakfast is incredible and a highlight of any...                    4   \n",
       "11                 Ideal to fuel a day's bike riding.                    4   \n",
       "14  - Very nice place to stay, one of the best in ...                    3   \n",
       "16              New bathroom with a very good shower.                    4   \n",
       "18  I would suggest safe bars inside the bathroom ...                    2   \n",
       "21  We stayed there for a MTB racer as well as all...                    0   \n",
       "22  And at the end, there is no flexible late chec...                    0   \n",
       "24  So you will have a hard time if you want to sl...                    2   \n",
       "25    Breakfast is good with a nice view to the city.                    3   \n",
       "26  I went to this hotel because I could not find ...                    2   \n",
       "27  Therefore I did not have great expectations an...                    1   \n",
       "28  To be fair, the positive points are: confortab...                    3   \n",
       "29  the hotel is clean tidy and well presented and...                    4   \n",
       "31                          Great breakfast included.                    4   \n",
       "32  Staff a bit surly.. Hotel Villa Benz,is a hote...                    3   \n",
       "33  Just outside but close to city center & has an...                    3   \n",
       "34  Castle is nearby for strolling to clean up you...                    3   \n",
       "35  Breakfast there is what gives you a kick-start...                    4   \n",
       "36                          Wonderful friendly staff.                    4   \n",
       "38  Very clean, nice rooms, friendly service, grea...                    2   \n",
       "40                                Entry fee included.                    3   \n",
       "42  Across from the side of the Schwetzingen Schlo...                    4   \n",
       "43  We parked behind the hotel, the entry was quit...                    3   \n",
       "44  The house is a lovely restored small mansion, ...                    4   \n",
       "45  The rooms are very nicely decorated and well e...                    4   \n",
       "46  Breakfast is on the ground floor, served by th...                    3   \n",
       "48  After breakfast the owner handed us tickets fo...                    4   \n",
       "49  We enjoyed our stay very much and can recommen...                    3   \n",
       "50  I wanted to find a nice hotel in Heidelberg wh...                    2   \n",
       "52                               Very friendly staff.                    4   \n",
       "54                              I would stay again !.                    2   \n",
       "55  I wanted to find a nice hotel in Heidelberg wh...                    2   \n",
       "57                               Very friendly staff.                    4   \n",
       "59                              I would stay again !.                    2   \n",
       "\n",
       "                                    modified_sentence  \\\n",
       "2   [It is in a really good location for riding or...   \n",
       "3   [I cannto recommend this place enough!., I can...   \n",
       "4   [3 friends and I visited 't Materke i April 20...   \n",
       "5   [2 of us had stayed before so knew to espect a...   \n",
       "8   [Edith and Mario are lovely and coundnt have b...   \n",
       "9   [The rooms are comfortable, clean and hove ple...   \n",
       "10  Breakfast is incredible and a highlight of any...   \n",
       "11                 Ideal to fuel a day's bike riding.   \n",
       "14  [- Very nice place to stay, one of the best in...   \n",
       "16  [New bathroom with a an good shower., New bath...   \n",
       "18  [I would suggest fase bars inside the bathroom...   \n",
       "21  We stayed there for a MTB racer as well as all...   \n",
       "22  [And at the end, there is no flexible late che...   \n",
       "24  So you will have a hard time if you want to sl...   \n",
       "25    Breakfast is good with a nice view to the city.   \n",
       "26  [I went to this hotel because I could not find...   \n",
       "27  Therefore I did not have great expectations an...   \n",
       "28  [To be fair, the positive points are: conforta...   \n",
       "29  the hotel is clean tidy and well presented and...   \n",
       "31                          Great breakfast included.   \n",
       "32  Staff a bit surly.. Hotel Villa Benz,is a hote...   \n",
       "33  Just outside but close to city center & has an...   \n",
       "34  Castle is nearby for strolling to clean up you...   \n",
       "35  Breakfast there is what gives you a kick-start...   \n",
       "36                          Wonderful friendly staff.   \n",
       "38  [Very clean, nice rooms, friendly service, gre...   \n",
       "40                                Entry fee included.   \n",
       "42  [Across from the side of the Schwetzingen Schl...   \n",
       "43  We parked behind the hotel, the entry was quit...   \n",
       "44  The house is a lovely restored small mansion, ...   \n",
       "45  The rooms are very nicely decorated and well e...   \n",
       "46  Breakfast is on the ground floor, served by th...   \n",
       "48  After breakfast the owner handed us tickets fo...   \n",
       "49  [We enjoyed our stay very much and can recomme...   \n",
       "50  [I pretented to find a nice hotel in Heidelber...   \n",
       "52       [Very frandely staff., Very freindly staff.]   \n",
       "54  [I would stay a_gan !., I would stay a_gane !....   \n",
       "55  [I pretented to find a nice hotel in Heidelber...   \n",
       "57       [Very frandely staff., Very freindly staff.]   \n",
       "59  [I would stay a_gan !., I would stay a_gane !....   \n",
       "\n",
       "                                  modified_prediction  \n",
       "2                                           [4, 4, 4]  \n",
       "3                                           [4, 4, 4]  \n",
       "4                                        [0, 0, 0, 0]  \n",
       "5                                           [4, 3, 4]  \n",
       "8                                              [4, 4]  \n",
       "9                                                 [4]  \n",
       "10                                                  3  \n",
       "11                                                  3  \n",
       "14                           [4, 4, 4, 4, 4, 4, 4, 4]  \n",
       "16                     [3, 3, 3, 3, 3, 3, 3, 3, 3, 3]  \n",
       "18  [1, 1, 1, 1, 1, 1, 1, 1, 1, 1, 1, 1, 1, 1, 1, ...  \n",
       "21                                                  1  \n",
       "22                                             [1, 1]  \n",
       "24                                                  1  \n",
       "25                                                  1  \n",
       "26                                       [4, 4, 1, 4]  \n",
       "27                                                  4  \n",
       "28                                       [2, 2, 2, 2]  \n",
       "29                                                  2  \n",
       "31                                                  2  \n",
       "32                                                  2  \n",
       "33                                                  2  \n",
       "34                                                  2  \n",
       "35                                                  2  \n",
       "36                                                  2  \n",
       "38                                          [4, 4, 4]  \n",
       "40                                                  4  \n",
       "42                              [3, 3, 3, 3, 3, 3, 2]  \n",
       "43                                                  2  \n",
       "44                                                  2  \n",
       "45                                                  2  \n",
       "46                                                  2  \n",
       "48                                                  3  \n",
       "49                                             [4, 4]  \n",
       "50         [1, 3, 3, 3, 3, 3, 3, 3, 3, 3, 1, 1, 3, 3]  \n",
       "52                                             [1, 3]  \n",
       "54   [1, 1, 1, 1, 1, 1, 1, 1, 1, 1, 1, 0, 4, 1, 1, 1]  \n",
       "55         [1, 3, 3, 3, 3, 3, 3, 3, 3, 3, 1, 1, 3, 3]  \n",
       "57                                             [1, 3]  \n",
       "59   [1, 1, 1, 1, 1, 1, 1, 1, 1, 1, 1, 0, 4, 1, 1, 1]  "
      ]
     },
     "execution_count": 221,
     "metadata": {},
     "output_type": "execute_result"
    }
   ],
   "source": [
    "advds[:40]"
   ]
  },
  {
   "cell_type": "code",
   "execution_count": 208,
   "metadata": {},
   "outputs": [
    {
     "name": "stdout",
     "output_type": "stream",
     "text": [
      "<class 'pandas.core.frame.DataFrame'>\n",
      "Int64Index: 330 entries, 2 to 434\n",
      "Data columns (total 4 columns):\n",
      " #   Column               Non-Null Count  Dtype \n",
      "---  ------               --------------  ----- \n",
      " 0   original_sentence    330 non-null    object\n",
      " 1   original_prediction  330 non-null    int64 \n",
      " 2   modified_sentence    330 non-null    object\n",
      " 3   modified_prediction  330 non-null    object\n",
      "dtypes: int64(1), object(3)\n",
      "memory usage: 12.9+ KB\n"
     ]
    }
   ],
   "source": [
    "advds.info()"
   ]
  },
  {
   "cell_type": "code",
   "execution_count": 222,
   "metadata": {},
   "outputs": [],
   "source": [
    " advds.to_json(r'data/adversarial_dataset_multitypos.json', orient='records')"
   ]
  },
  {
   "cell_type": "code",
   "execution_count": null,
   "metadata": {},
   "outputs": [],
   "source": []
  }
 ],
 "metadata": {
  "kernelspec": {
   "display_name": "Python 3",
   "language": "python",
   "name": "python3"
  },
  "language_info": {
   "codemirror_mode": {
    "name": "ipython",
    "version": 3
   },
   "file_extension": ".py",
   "mimetype": "text/x-python",
   "name": "python",
   "nbconvert_exporter": "python",
   "pygments_lexer": "ipython3",
   "version": "3.6.9"
  }
 },
 "nbformat": 4,
 "nbformat_minor": 4
}
