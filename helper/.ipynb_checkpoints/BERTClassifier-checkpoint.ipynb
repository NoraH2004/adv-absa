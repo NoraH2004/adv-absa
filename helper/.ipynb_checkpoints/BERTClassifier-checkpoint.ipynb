{
 "cells": [
  {
   "cell_type": "markdown",
   "metadata": {},
   "source": [
    "# Script for crafting Adversarial Examples"
   ]
  },
  {
   "cell_type": "markdown",
   "metadata": {},
   "source": [
    "## Perturbation Methods\n",
    "### 1. leet speech\n",
    "### 2. punctuation marks\n",
    "### 3. typos\n",
    "\n",
    "\n",
    "Also zuerst\n",
    "neues Dataframe\n",
    "text reinladen\n",
    "über items in text gehen\n",
    "alle punctuation marsk ruas nehmen\n"
   ]
  },
  {
   "cell_type": "markdown",
   "metadata": {},
   "source": [
    "1. Hergehen und die Liste mit Sätzen reinladen\n",
    "2. Liste mit wichtigen Wörtern reinladen\n",
    "3. "
   ]
  }
 ],
 "metadata": {
  "kernelspec": {
   "display_name": "Python 3",
   "language": "python",
   "name": "python3"
  },
  "language_info": {
   "codemirror_mode": {
    "name": "ipython",
    "version": 3
   },
   "file_extension": ".py",
   "mimetype": "text/x-python",
   "name": "python",
   "nbconvert_exporter": "python",
   "pygments_lexer": "ipython3",
   "version": "3.6.9"
  }
 },
 "nbformat": 4,
 "nbformat_minor": 4
}
