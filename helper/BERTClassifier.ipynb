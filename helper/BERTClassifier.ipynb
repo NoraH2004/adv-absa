{
 "cells": [
  {
   "cell_type": "markdown",
   "metadata": {},
   "source": [
    "# Prediciton with BERT Models"
   ]
  },
  {
   "cell_type": "markdown",
   "metadata": {},
   "source": [
    "#### Import Data"
   ]
  },
  {
   "cell_type": "code",
   "execution_count": null,
   "metadata": {},
   "outputs": [],
   "source": []
  },
  {
   "cell_type": "markdown",
   "metadata": {},
   "source": [
    "1. Model import"
   ]
  },
  {
   "cell_type": "code",
   "execution_count": 49,
   "metadata": {},
   "outputs": [],
   "source": [
    "import torch\n",
    "import random\n",
    "import numpy as np\n",
    "import pandas as pd\n",
    "\n",
    "SEED = 42\n",
    "random.seed(SEED)\n",
    "np.random.seed(SEED)\n",
    "torch.manual_seed(SEED)\n",
    "torch.backends.cudnn.deterministic = True"
   ]
  },
  {
   "cell_type": "code",
   "execution_count": 50,
   "metadata": {},
   "outputs": [],
   "source": [
    "from transformers import AutoTokenizer, AutoModelForSequenceClassification\n",
    "tokenizer = AutoTokenizer.from_pretrained(\"nlptown/bert-base-multilingual-uncased-sentiment\")\n",
    "model = AutoModelForSequenceClassification.from_pretrained(\"nlptown/bert-base-multilingual-uncased-sentiment\")"
   ]
  },
  {
   "cell_type": "code",
   "execution_count": 51,
   "metadata": {},
   "outputs": [],
   "source": [
    "init_token = tokenizer.cls_token\n",
    "eos_token = tokenizer.sep_token\n",
    "pad_token = tokenizer.pad_token\n",
    "unk_token = tokenizer.unk_token\n",
    "init_token_idx = tokenizer.cls_token_id\n",
    "eos_token_idx = tokenizer.sep_token_id\n",
    "pad_token_idx = tokenizer.pad_token_id\n",
    "unk_token_idx = tokenizer.unk_token_id"
   ]
  },
  {
   "cell_type": "code",
   "execution_count": 52,
   "metadata": {},
   "outputs": [],
   "source": [
    "max_input_length = tokenizer.max_model_input_sizes['bert-base-uncased']\n",
    "def tokenize_and_cut(sentence):\n",
    "    tokens = tokenizer.tokenize(sentence) \n",
    "    tokens = tokens[:max_input_length-2]\n",
    "    return tokens"
   ]
  },
  {
   "cell_type": "code",
   "execution_count": 130,
   "metadata": {},
   "outputs": [],
   "source": [
    "def predict_sentiment(sentence):\n",
    "    model.eval()\n",
    "    inputs = tokenizer.encode_plus(sentence, add_special_tokens=True, return_tensors='pt')\n",
    "    prediction = model(inputs['input_ids'], token_type_ids=inputs['token_type_ids'])[0].argmax().item()\n",
    "    return prediction"
   ]
  },
  {
   "cell_type": "markdown",
   "metadata": {},
   "source": [
    "### Prediction"
   ]
  },
  {
   "cell_type": "code",
   "execution_count": 131,
   "metadata": {},
   "outputs": [],
   "source": [
    "original_predictions = []"
   ]
  },
  {
   "cell_type": "code",
   "execution_count": 132,
   "metadata": {},
   "outputs": [],
   "source": [
    "for sentence in original_sentences:\n",
    "    original_predictions.append(predict_sentiment(sentence))   \n",
    "    "
   ]
  },
  {
   "cell_type": "code",
   "execution_count": 133,
   "metadata": {},
   "outputs": [],
   "source": [
    "modified_predictions = []"
   ]
  },
  {
   "cell_type": "code",
   "execution_count": 134,
   "metadata": {},
   "outputs": [],
   "source": [
    "for sentence in modified_sentences:\n",
    "    modified_predictions.append(predict_sentiment(sentence))"
   ]
  },
  {
   "cell_type": "code",
   "execution_count": 135,
   "metadata": {},
   "outputs": [],
   "source": [
    "ds = pd.DataFrame(list(zip(original_sentences, original_predictions, modified_sentences, modified_predictions)),\n",
    "                 columns = ['original_sentences', 'original_predictions', 'modified_sentences', 'modified_predictions'])"
   ]
  },
  {
   "cell_type": "code",
   "execution_count": 147,
   "metadata": {},
   "outputs": [
    {
     "data": {
      "text/html": [
       "<div>\n",
       "<style scoped>\n",
       "    .dataframe tbody tr th:only-of-type {\n",
       "        vertical-align: middle;\n",
       "    }\n",
       "\n",
       "    .dataframe tbody tr th {\n",
       "        vertical-align: top;\n",
       "    }\n",
       "\n",
       "    .dataframe thead th {\n",
       "        text-align: right;\n",
       "    }\n",
       "</style>\n",
       "<table border=\"1\" class=\"dataframe\">\n",
       "  <thead>\n",
       "    <tr style=\"text-align: right;\">\n",
       "      <th></th>\n",
       "      <th>original_sentences</th>\n",
       "      <th>original_predictions</th>\n",
       "      <th>modified_sentences</th>\n",
       "      <th>modified_predictions</th>\n",
       "    </tr>\n",
       "  </thead>\n",
       "  <tbody>\n",
       "    <tr>\n",
       "      <th>0</th>\n",
       "      <td>I visited this b&amp;b during a short trip to ride...</td>\n",
       "      <td>4</td>\n",
       "      <td>I vi5it3d this b&amp;b during a short trip to ride...</td>\n",
       "      <td>4</td>\n",
       "    </tr>\n",
       "    <tr>\n",
       "      <th>1</th>\n",
       "      <td>The owners were really lovely people, the room...</td>\n",
       "      <td>4</td>\n",
       "      <td>The owners w3r3 really lovely people, the room...</td>\n",
       "      <td>4</td>\n",
       "    </tr>\n",
       "    <tr>\n",
       "      <th>2</th>\n",
       "      <td>It is in a really good location for riding or ...</td>\n",
       "      <td>3</td>\n",
       "      <td>It is in a really good location for riding or ...</td>\n",
       "      <td>3</td>\n",
       "    </tr>\n",
       "    <tr>\n",
       "      <th>3</th>\n",
       "      <td>I cannot recommend this place enough!.</td>\n",
       "      <td>0</td>\n",
       "      <td>I cannot recommend this place 3n0ugh!.</td>\n",
       "      <td>0</td>\n",
       "    </tr>\n",
       "    <tr>\n",
       "      <th>4</th>\n",
       "      <td>3 friends and I visited 't Materke in April 20...</td>\n",
       "      <td>4</td>\n",
       "      <td>3 friends and I visited 't Materke in April 20...</td>\n",
       "      <td>4</td>\n",
       "    </tr>\n",
       "  </tbody>\n",
       "</table>\n",
       "</div>"
      ],
      "text/plain": [
       "                                  original_sentences  original_predictions  \\\n",
       "0  I visited this b&b during a short trip to ride...                     4   \n",
       "1  The owners were really lovely people, the room...                     4   \n",
       "2  It is in a really good location for riding or ...                     3   \n",
       "3             I cannot recommend this place enough!.                     0   \n",
       "4  3 friends and I visited 't Materke in April 20...                     4   \n",
       "\n",
       "                                  modified_sentences  modified_predictions  \n",
       "0  I vi5it3d this b&b during a short trip to ride...                     4  \n",
       "1  The owners w3r3 really lovely people, the room...                     4  \n",
       "2  It is in a really good location for riding or ...                     3  \n",
       "3             I cannot recommend this place 3n0ugh!.                     0  \n",
       "4  3 friends and I visited 't Materke in April 20...                     4  "
      ]
     },
     "execution_count": 147,
     "metadata": {},
     "output_type": "execute_result"
    }
   ],
   "source": [
    "ds.head()"
   ]
  },
  {
   "cell_type": "code",
   "execution_count": 138,
   "metadata": {},
   "outputs": [
    {
     "name": "stdout",
     "output_type": "stream",
     "text": [
      "<class 'pandas.core.frame.DataFrame'>\n",
      "RangeIndex: 436 entries, 0 to 435\n",
      "Data columns (total 4 columns):\n",
      " #   Column                Non-Null Count  Dtype \n",
      "---  ------                --------------  ----- \n",
      " 0   original_sentences    436 non-null    object\n",
      " 1   original_predictions  436 non-null    int64 \n",
      " 2   modified_sentences    436 non-null    object\n",
      " 3   modified_predictions  436 non-null    int64 \n",
      "dtypes: int64(2), object(2)\n",
      "memory usage: 13.8+ KB\n"
     ]
    }
   ],
   "source": [
    "ds.info()"
   ]
  },
  {
   "cell_type": "code",
   "execution_count": 155,
   "metadata": {},
   "outputs": [],
   "source": [
    "advds = ds[ds.original_predictions != ds.modified_predictions]"
   ]
  },
  {
   "cell_type": "code",
   "execution_count": 156,
   "metadata": {},
   "outputs": [
    {
     "data": {
      "text/html": [
       "<div>\n",
       "<style scoped>\n",
       "    .dataframe tbody tr th:only-of-type {\n",
       "        vertical-align: middle;\n",
       "    }\n",
       "\n",
       "    .dataframe tbody tr th {\n",
       "        vertical-align: top;\n",
       "    }\n",
       "\n",
       "    .dataframe thead th {\n",
       "        text-align: right;\n",
       "    }\n",
       "</style>\n",
       "<table border=\"1\" class=\"dataframe\">\n",
       "  <thead>\n",
       "    <tr style=\"text-align: right;\">\n",
       "      <th></th>\n",
       "      <th>original_sentences</th>\n",
       "      <th>original_predictions</th>\n",
       "      <th>modified_sentences</th>\n",
       "      <th>modified_predictions</th>\n",
       "    </tr>\n",
       "  </thead>\n",
       "  <tbody>\n",
       "    <tr>\n",
       "      <th>19</th>\n",
       "      <td>It says it is a hotel, but actually nothing mo...</td>\n",
       "      <td>1</td>\n",
       "      <td>It 54y5 it is a hotel, but actually nothing mo...</td>\n",
       "      <td>2</td>\n",
       "    </tr>\n",
       "    <tr>\n",
       "      <th>26</th>\n",
       "      <td>I went to this hotel because I could not find ...</td>\n",
       "      <td>2</td>\n",
       "      <td>I w3nt to this hotel because I could not find ...</td>\n",
       "      <td>4</td>\n",
       "    </tr>\n",
       "    <tr>\n",
       "      <th>30</th>\n",
       "      <td>Rooms are simple, bathrooms adequate.</td>\n",
       "      <td>2</td>\n",
       "      <td>Rooms are simple, bathrooms 4d3qu4t3.</td>\n",
       "      <td>3</td>\n",
       "    </tr>\n",
       "    <tr>\n",
       "      <th>33</th>\n",
       "      <td>Just outside but close to city center &amp; has an...</td>\n",
       "      <td>3</td>\n",
       "      <td>Just 0ut5id3 but close to city center &amp; has an...</td>\n",
       "      <td>2</td>\n",
       "    </tr>\n",
       "    <tr>\n",
       "      <th>39</th>\n",
       "      <td>Situated right across the castle with a fabulo...</td>\n",
       "      <td>4</td>\n",
       "      <td>Situated right across the castle with a f4bu10...</td>\n",
       "      <td>3</td>\n",
       "    </tr>\n",
       "    <tr>\n",
       "      <th>...</th>\n",
       "      <td>...</td>\n",
       "      <td>...</td>\n",
       "      <td>...</td>\n",
       "      <td>...</td>\n",
       "    </tr>\n",
       "    <tr>\n",
       "      <th>396</th>\n",
       "      <td>All rooms featured air conditioning, in-room p...</td>\n",
       "      <td>2</td>\n",
       "      <td>All rooms featured air conditioning, in-room p...</td>\n",
       "      <td>3</td>\n",
       "    </tr>\n",
       "    <tr>\n",
       "      <th>402</th>\n",
       "      <td>A small chair and/or small table is featured i...</td>\n",
       "      <td>2</td>\n",
       "      <td>A small chair and/or small table is featured i...</td>\n",
       "      <td>3</td>\n",
       "    </tr>\n",
       "    <tr>\n",
       "      <th>405</th>\n",
       "      <td>Scrambled eggs were offered, also.</td>\n",
       "      <td>0</td>\n",
       "      <td>Scrambled 3gg5 were offered, also.</td>\n",
       "      <td>1</td>\n",
       "    </tr>\n",
       "    <tr>\n",
       "      <th>425</th>\n",
       "      <td>The hotel features a super-tiny pool in its ba...</td>\n",
       "      <td>3</td>\n",
       "      <td>The hotel f34tur35 a super-tiny pool in its ba...</td>\n",
       "      <td>4</td>\n",
       "    </tr>\n",
       "    <tr>\n",
       "      <th>428</th>\n",
       "      <td>We recommend this hotel for anyone on a budget...</td>\n",
       "      <td>3</td>\n",
       "      <td>We r3c0mm3nd this hotel for anyone on a budget...</td>\n",
       "      <td>4</td>\n",
       "    </tr>\n",
       "  </tbody>\n",
       "</table>\n",
       "<p>83 rows × 4 columns</p>\n",
       "</div>"
      ],
      "text/plain": [
       "                                    original_sentences  original_predictions  \\\n",
       "19   It says it is a hotel, but actually nothing mo...                     1   \n",
       "26   I went to this hotel because I could not find ...                     2   \n",
       "30               Rooms are simple, bathrooms adequate.                     2   \n",
       "33   Just outside but close to city center & has an...                     3   \n",
       "39   Situated right across the castle with a fabulo...                     4   \n",
       "..                                                 ...                   ...   \n",
       "396  All rooms featured air conditioning, in-room p...                     2   \n",
       "402  A small chair and/or small table is featured i...                     2   \n",
       "405                 Scrambled eggs were offered, also.                     0   \n",
       "425  The hotel features a super-tiny pool in its ba...                     3   \n",
       "428  We recommend this hotel for anyone on a budget...                     3   \n",
       "\n",
       "                                    modified_sentences  modified_predictions  \n",
       "19   It 54y5 it is a hotel, but actually nothing mo...                     2  \n",
       "26   I w3nt to this hotel because I could not find ...                     4  \n",
       "30               Rooms are simple, bathrooms 4d3qu4t3.                     3  \n",
       "33   Just 0ut5id3 but close to city center & has an...                     2  \n",
       "39   Situated right across the castle with a f4bu10...                     3  \n",
       "..                                                 ...                   ...  \n",
       "396  All rooms featured air conditioning, in-room p...                     3  \n",
       "402  A small chair and/or small table is featured i...                     3  \n",
       "405                 Scrambled 3gg5 were offered, also.                     1  \n",
       "425  The hotel f34tur35 a super-tiny pool in its ba...                     4  \n",
       "428  We r3c0mm3nd this hotel for anyone on a budget...                     4  \n",
       "\n",
       "[83 rows x 4 columns]"
      ]
     },
     "execution_count": 156,
     "metadata": {},
     "output_type": "execute_result"
    }
   ],
   "source": [
    "advds"
   ]
  },
  {
   "cell_type": "code",
   "execution_count": null,
   "metadata": {},
   "outputs": [],
   "source": []
  }
 ],
 "metadata": {
  "kernelspec": {
   "display_name": "Python 3",
   "language": "python",
   "name": "python3"
  },
  "language_info": {
   "codemirror_mode": {
    "name": "ipython",
    "version": 3
   },
   "file_extension": ".py",
   "mimetype": "text/x-python",
   "name": "python",
   "nbconvert_exporter": "python",
   "pygments_lexer": "ipython3",
   "version": "3.6.9"
  }
 },
 "nbformat": 4,
 "nbformat_minor": 4
}
