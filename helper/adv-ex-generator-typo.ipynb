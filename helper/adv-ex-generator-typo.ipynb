{
 "cells": [
  {
   "cell_type": "markdown",
   "metadata": {},
   "source": [
    "# Script for crafting Adversarial Examples"
   ]
  },
  {
   "cell_type": "code",
   "execution_count": 1,
   "metadata": {},
   "outputs": [],
   "source": [
    "# get data from important word detector\n",
    "%store -r important_words\n",
    "%store -r sentence_packages"
   ]
  },
  {
   "cell_type": "markdown",
   "metadata": {},
   "source": [
    "## Methed 2: Mispeeling"
   ]
  },
  {
   "cell_type": "markdown",
   "metadata": {},
   "source": [
    "#### 1. Create modified Dataset"
   ]
  },
  {
   "cell_type": "code",
   "execution_count": null,
   "metadata": {},
   "outputs": [],
   "source": [
    "original_sentences = []\n",
    "for sentence in sentence_packages:\n",
    "    original_sentences.append(sentence['original_sentence'])"
   ]
  },
  {
   "cell_type": "code",
   "execution_count": 2,
   "metadata": {},
   "outputs": [],
   "source": [
    "Das erste Typo Wort wird verwendet..\n",
    "\n",
    "1 über den txt birkbeck corpera iterieren und die Wörter suchen\n",
    "die mit $ beginnen.\n",
    "\n",
    "2. diese und das Wort direkt danach in ein dict speichern\n",
    "\n",
    "3. über die important words gehen und cecken, ob sie im dict vorkommen.\n",
    "\n",
    "4. wenn ja, dann speichern in list modified words"
   ]
  },
  {
   "cell_type": "code",
   "execution_count": 28,
   "metadata": {},
   "outputs": [],
   "source": [
    "with open('birkbeck_corpera_typo.txt', 'r') as f:\n",
    "    typods = f.readlines()\n",
    "    \n",
    "typodict = {}\n",
    "counter = 0\n",
    "for item in typods:\n",
    "    if typods[counter][0] == '$':\n",
    "        word = typods[counter].strip('\\n').strip('$')\n",
    "        typo = typods[counter+1].strip('\\n')\n",
    "        typodict.update({word : typo})\n",
    "    counter += 1"
   ]
  },
  {
   "cell_type": "code",
   "execution_count": null,
   "metadata": {},
   "outputs": [],
   "source": [
    "modified_words = []\n",
    "def typo(word):\n",
    "    for word in important_words:\n",
    "        if word in typodict:\n",
    "            modified_words.append(typodict[])\n",
    "        \n",
    "        \n",
    "\n",
    "    return ''.join(getchar(c) for c in text)"
   ]
  },
  {
   "cell_type": "code",
   "execution_count": 12,
   "metadata": {},
   "outputs": [],
   "source": [
    "modified_words = []\n",
    "for word in important_words:\n",
    "    modified_words.append(typo(word))"
   ]
  },
  {
   "cell_type": "code",
   "execution_count": 13,
   "metadata": {},
   "outputs": [],
   "source": [
    "modified_sentences = []\n",
    "index = 0\n",
    "for sentence in original_sentences:\n",
    "    modified_sentences.append(sentence.replace(important_words[index], modified_words[index]))\n",
    "    index += 1"
   ]
  },
  {
   "cell_type": "markdown",
   "metadata": {},
   "source": [
    "#### 2. Import BERT Model"
   ]
  },
  {
   "cell_type": "code",
   "execution_count": 14,
   "metadata": {},
   "outputs": [],
   "source": [
    "import torch\n",
    "import random\n",
    "import numpy as np\n",
    "import pandas as pd\n",
    "\n",
    "SEED = 42\n",
    "random.seed(SEED)\n",
    "np.random.seed(SEED)\n",
    "torch.manual_seed(SEED)\n",
    "torch.backends.cudnn.deterministic = True\n",
    "\n",
    "from transformers import AutoTokenizer, AutoModelForSequenceClassification\n",
    "tokenizer = AutoTokenizer.from_pretrained(\"nlptown/bert-base-multilingual-uncased-sentiment\")\n",
    "model = AutoModelForSequenceClassification.from_pretrained(\"nlptown/bert-base-multilingual-uncased-sentiment\")"
   ]
  },
  {
   "cell_type": "code",
   "execution_count": 15,
   "metadata": {},
   "outputs": [],
   "source": [
    "init_token = tokenizer.cls_token\n",
    "eos_token = tokenizer.sep_token\n",
    "pad_token = tokenizer.pad_token\n",
    "unk_token = tokenizer.unk_token\n",
    "init_token_idx = tokenizer.cls_token_id\n",
    "eos_token_idx = tokenizer.sep_token_id\n",
    "pad_token_idx = tokenizer.pad_token_id\n",
    "unk_token_idx = tokenizer.unk_token_id"
   ]
  },
  {
   "cell_type": "code",
   "execution_count": 16,
   "metadata": {},
   "outputs": [],
   "source": [
    "max_input_length = tokenizer.max_model_input_sizes['bert-base-uncased']\n",
    "def tokenize_and_cut(sentence):\n",
    "    tokens = tokenizer.tokenize(sentence) \n",
    "    tokens = tokens[:max_input_length-2]\n",
    "    return tokens"
   ]
  },
  {
   "cell_type": "code",
   "execution_count": 17,
   "metadata": {},
   "outputs": [],
   "source": [
    "# prediciton function\n",
    "def predict_sentiment(sentence):\n",
    "    model.eval()\n",
    "    inputs = tokenizer.encode_plus(sentence, add_special_tokens=True, return_tensors='pt')\n",
    "    prediction = model(inputs['input_ids'], token_type_ids=inputs['token_type_ids'])[0].argmax().item()\n",
    "    return prediction"
   ]
  },
  {
   "cell_type": "markdown",
   "metadata": {},
   "source": [
    "#### 3. Prediction"
   ]
  },
  {
   "cell_type": "code",
   "execution_count": 18,
   "metadata": {},
   "outputs": [],
   "source": [
    "original_predictions = []\n",
    "for sentence in original_sentences:\n",
    "    original_predictions.append(predict_sentiment(sentence))   "
   ]
  },
  {
   "cell_type": "code",
   "execution_count": 19,
   "metadata": {},
   "outputs": [],
   "source": [
    "modified_predictions = []\n",
    "for sentence in modified_sentences:\n",
    "    modified_predictions.append(predict_sentiment(sentence))"
   ]
  },
  {
   "cell_type": "markdown",
   "metadata": {},
   "source": [
    "#### 4. Creation of Dataset"
   ]
  },
  {
   "cell_type": "code",
   "execution_count": 21,
   "metadata": {},
   "outputs": [],
   "source": [
    "ds = pd.DataFrame(list(zip(original_sentences, original_predictions, modified_sentences, modified_predictions)),\n",
    "                 columns = ['original_sentences', 'original_predictions', 'modified_sentences', 'modified_predictions'])"
   ]
  },
  {
   "cell_type": "code",
   "execution_count": 23,
   "metadata": {},
   "outputs": [
    {
     "data": {
      "text/html": [
       "<div>\n",
       "<style scoped>\n",
       "    .dataframe tbody tr th:only-of-type {\n",
       "        vertical-align: middle;\n",
       "    }\n",
       "\n",
       "    .dataframe tbody tr th {\n",
       "        vertical-align: top;\n",
       "    }\n",
       "\n",
       "    .dataframe thead th {\n",
       "        text-align: right;\n",
       "    }\n",
       "</style>\n",
       "<table border=\"1\" class=\"dataframe\">\n",
       "  <thead>\n",
       "    <tr style=\"text-align: right;\">\n",
       "      <th></th>\n",
       "      <th>original_sentences</th>\n",
       "      <th>original_predictions</th>\n",
       "      <th>modified_sentences</th>\n",
       "      <th>modified_predictions</th>\n",
       "    </tr>\n",
       "  </thead>\n",
       "  <tbody>\n",
       "    <tr>\n",
       "      <th>0</th>\n",
       "      <td>I visited this b&amp;b during a short trip to ride...</td>\n",
       "      <td>4</td>\n",
       "      <td>I vi5it3d this b&amp;b during a short trip to ride...</td>\n",
       "      <td>4</td>\n",
       "    </tr>\n",
       "    <tr>\n",
       "      <th>1</th>\n",
       "      <td>The owners were really lovely people, the room...</td>\n",
       "      <td>4</td>\n",
       "      <td>The owners w3r3 really lovely people, the room...</td>\n",
       "      <td>4</td>\n",
       "    </tr>\n",
       "    <tr>\n",
       "      <th>2</th>\n",
       "      <td>It is in a really good location for riding or ...</td>\n",
       "      <td>3</td>\n",
       "      <td>It is in a really good location for riding or ...</td>\n",
       "      <td>3</td>\n",
       "    </tr>\n",
       "    <tr>\n",
       "      <th>3</th>\n",
       "      <td>I cannot recommend this place enough!.</td>\n",
       "      <td>0</td>\n",
       "      <td>I cannot recommend this place 3n0ugh!.</td>\n",
       "      <td>0</td>\n",
       "    </tr>\n",
       "    <tr>\n",
       "      <th>4</th>\n",
       "      <td>3 friends and I visited 't Materke in April 20...</td>\n",
       "      <td>4</td>\n",
       "      <td>3 friends and I visited 't Materke in April 20...</td>\n",
       "      <td>4</td>\n",
       "    </tr>\n",
       "  </tbody>\n",
       "</table>\n",
       "</div>"
      ],
      "text/plain": [
       "                                  original_sentences  original_predictions  \\\n",
       "0  I visited this b&b during a short trip to ride...                     4   \n",
       "1  The owners were really lovely people, the room...                     4   \n",
       "2  It is in a really good location for riding or ...                     3   \n",
       "3             I cannot recommend this place enough!.                     0   \n",
       "4  3 friends and I visited 't Materke in April 20...                     4   \n",
       "\n",
       "                                  modified_sentences  modified_predictions  \n",
       "0  I vi5it3d this b&b during a short trip to ride...                     4  \n",
       "1  The owners w3r3 really lovely people, the room...                     4  \n",
       "2  It is in a really good location for riding or ...                     3  \n",
       "3             I cannot recommend this place 3n0ugh!.                     0  \n",
       "4  3 friends and I visited 't Materke in April 20...                     4  "
      ]
     },
     "execution_count": 23,
     "metadata": {},
     "output_type": "execute_result"
    }
   ],
   "source": [
    "ds.head()"
   ]
  },
  {
   "cell_type": "code",
   "execution_count": 24,
   "metadata": {},
   "outputs": [
    {
     "name": "stdout",
     "output_type": "stream",
     "text": [
      "<class 'pandas.core.frame.DataFrame'>\n",
      "RangeIndex: 436 entries, 0 to 435\n",
      "Data columns (total 4 columns):\n",
      " #   Column                Non-Null Count  Dtype \n",
      "---  ------                --------------  ----- \n",
      " 0   original_sentences    436 non-null    object\n",
      " 1   original_predictions  436 non-null    int64 \n",
      " 2   modified_sentences    436 non-null    object\n",
      " 3   modified_predictions  436 non-null    int64 \n",
      "dtypes: int64(2), object(2)\n",
      "memory usage: 13.8+ KB\n"
     ]
    }
   ],
   "source": [
    "ds.info()"
   ]
  },
  {
   "cell_type": "markdown",
   "metadata": {},
   "source": [
    "#### 5. Creation of adversarial Dataset"
   ]
  },
  {
   "cell_type": "code",
   "execution_count": 27,
   "metadata": {},
   "outputs": [
    {
     "data": {
      "text/html": [
       "<div>\n",
       "<style scoped>\n",
       "    .dataframe tbody tr th:only-of-type {\n",
       "        vertical-align: middle;\n",
       "    }\n",
       "\n",
       "    .dataframe tbody tr th {\n",
       "        vertical-align: top;\n",
       "    }\n",
       "\n",
       "    .dataframe thead th {\n",
       "        text-align: right;\n",
       "    }\n",
       "</style>\n",
       "<table border=\"1\" class=\"dataframe\">\n",
       "  <thead>\n",
       "    <tr style=\"text-align: right;\">\n",
       "      <th></th>\n",
       "      <th>original_sentences</th>\n",
       "      <th>original_predictions</th>\n",
       "      <th>modified_sentences</th>\n",
       "      <th>modified_predictions</th>\n",
       "    </tr>\n",
       "  </thead>\n",
       "  <tbody>\n",
       "    <tr>\n",
       "      <th>19</th>\n",
       "      <td>It says it is a hotel, but actually nothing mo...</td>\n",
       "      <td>1</td>\n",
       "      <td>It 54y5 it is a hotel, but actually nothing mo...</td>\n",
       "      <td>2</td>\n",
       "    </tr>\n",
       "    <tr>\n",
       "      <th>26</th>\n",
       "      <td>I went to this hotel because I could not find ...</td>\n",
       "      <td>2</td>\n",
       "      <td>I w3nt to this hotel because I could not find ...</td>\n",
       "      <td>4</td>\n",
       "    </tr>\n",
       "    <tr>\n",
       "      <th>30</th>\n",
       "      <td>Rooms are simple, bathrooms adequate.</td>\n",
       "      <td>2</td>\n",
       "      <td>Rooms are simple, bathrooms 4d3qu4t3.</td>\n",
       "      <td>3</td>\n",
       "    </tr>\n",
       "    <tr>\n",
       "      <th>33</th>\n",
       "      <td>Just outside but close to city center &amp; has an...</td>\n",
       "      <td>3</td>\n",
       "      <td>Just 0ut5id3 but close to city center &amp; has an...</td>\n",
       "      <td>2</td>\n",
       "    </tr>\n",
       "    <tr>\n",
       "      <th>39</th>\n",
       "      <td>Situated right across the castle with a fabulo...</td>\n",
       "      <td>4</td>\n",
       "      <td>Situated right across the castle with a f4bu10...</td>\n",
       "      <td>3</td>\n",
       "    </tr>\n",
       "  </tbody>\n",
       "</table>\n",
       "</div>"
      ],
      "text/plain": [
       "                                   original_sentences  original_predictions  \\\n",
       "19  It says it is a hotel, but actually nothing mo...                     1   \n",
       "26  I went to this hotel because I could not find ...                     2   \n",
       "30              Rooms are simple, bathrooms adequate.                     2   \n",
       "33  Just outside but close to city center & has an...                     3   \n",
       "39  Situated right across the castle with a fabulo...                     4   \n",
       "\n",
       "                                   modified_sentences  modified_predictions  \n",
       "19  It 54y5 it is a hotel, but actually nothing mo...                     2  \n",
       "26  I w3nt to this hotel because I could not find ...                     4  \n",
       "30              Rooms are simple, bathrooms 4d3qu4t3.                     3  \n",
       "33  Just 0ut5id3 but close to city center & has an...                     2  \n",
       "39  Situated right across the castle with a f4bu10...                     3  "
      ]
     },
     "execution_count": 27,
     "metadata": {},
     "output_type": "execute_result"
    }
   ],
   "source": [
    "advds = ds[ds.original_predictions != ds.modified_predictions]\n",
    "advds.head()"
   ]
  },
  {
   "cell_type": "code",
   "execution_count": 28,
   "metadata": {},
   "outputs": [
    {
     "name": "stdout",
     "output_type": "stream",
     "text": [
      "<class 'pandas.core.frame.DataFrame'>\n",
      "Int64Index: 83 entries, 19 to 428\n",
      "Data columns (total 4 columns):\n",
      " #   Column                Non-Null Count  Dtype \n",
      "---  ------                --------------  ----- \n",
      " 0   original_sentences    83 non-null     object\n",
      " 1   original_predictions  83 non-null     int64 \n",
      " 2   modified_sentences    83 non-null     object\n",
      " 3   modified_predictions  83 non-null     int64 \n",
      "dtypes: int64(2), object(2)\n",
      "memory usage: 3.2+ KB\n"
     ]
    }
   ],
   "source": [
    "advds.info()"
   ]
  }
 ],
 "metadata": {
  "kernelspec": {
   "display_name": "Python 3",
   "language": "python",
   "name": "python3"
  },
  "language_info": {
   "codemirror_mode": {
    "name": "ipython",
    "version": 3
   },
   "file_extension": ".py",
   "mimetype": "text/x-python",
   "name": "python",
   "nbconvert_exporter": "python",
   "pygments_lexer": "ipython3",
   "version": "3.6.9"
  }
 },
 "nbformat": 4,
 "nbformat_minor": 4
}
